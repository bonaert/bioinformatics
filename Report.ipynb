{
 "cells": [
  {
   "cell_type": "code",
   "execution_count": 1,
   "metadata": {},
   "outputs": [],
   "source": [
    "%matplotlib inline\n",
    "import numpy as np\n",
    "import matplotlib.pyplot as plt"
   ]
  },
  {
   "cell_type": "markdown",
   "metadata": {},
   "source": [
    "# Abstract Data Types\n",
    "\n",
    "Nous commencons par créer une classe Sequence, qui est l'ADT qui représente une séquence d’acides aminés et toutes les opérations qu’on  peut  exécuter  sur  une  séquence (exemple:  retourner  un  acide  aminé  à  une  certaine  position ou visualiser la séquence en format FASTA)."
   ]
  },
  {
   "cell_type": "code",
   "execution_count": 37,
   "metadata": {},
   "outputs": [],
   "source": [
    "class Sequence:\n",
    "    def __init__(self, acids, annotation=None):\n",
    "        self.acids = acids\n",
    "        self.annotation = annotation\n",
    "        \n",
    "    def __getitem__(self, position):\n",
    "        \"\"\" Renvoie l'acide aminé à la position donnée. Syntaxe: sequence[position] \"\"\"\n",
    "        return self.acids[position]\n",
    "    \n",
    "    def toFASTAFormat(self):\n",
    "        return \">\" + self.annotation + \"\\n\" + self.acids\n",
    "    \n",
    "    def __repr__(self):\n",
    "        return \"Annotation: %s \\nAcids: %s\" % (self.annotation, self.acids)\n",
    "    \n",
    "    def length(self):\n",
    "        return len(self.acids)\n",
    "        "
   ]
  },
  {
   "cell_type": "markdown",
   "metadata": {},
   "source": [
    "Nous créeons aussi une classe Score, qui est un ADT qui représente une matrice de substitution et les opérations qu'on peut exécuter sur cette matrice."
   ]
  },
  {
   "cell_type": "code",
   "execution_count": 3,
   "metadata": {},
   "outputs": [],
   "source": [
    "class Score:\n",
    "    def __init__(self, matrix):\n",
    "        self.matrix = matrix\n",
    "    \n",
    "    def getNumLetters(self):\n",
    "        return len(self.matrix)\n",
    "    \n",
    "    def getLetters(self):\n",
    "        return self.matrix.keys()\n",
    "\n",
    "    def getCost(self, a, b):\n",
    "        return self.matrix[a.upper()][b.upper()]"
   ]
  },
  {
   "cell_type": "markdown",
   "metadata": {},
   "source": [
    "## Parser\n",
    "\n",
    "Nous devons créer des objets des classes Sequence et Score à partir des fichiers fournis. Il faut donc créer un parser pour les fichier des séquences (FASTA) et pour les fichiers avec les matrices de substitution (BLOSUM et PAM)."
   ]
  },
  {
   "cell_type": "markdown",
   "metadata": {},
   "source": [
    "## FASTA\n",
    "\n",
    "Les séquences d'acides aminés sont codées dans le format FASTA. Ce format est très simple.\n",
    "Chaque séquence est encodée par une annotation et ensuite la liste d'acides aminés. Voici un exemple:\n",
    "\n",
    ">&gt;sp|Q13526|PIN1_HUMAN Peptidyl-prolyl cis-trans isomerase NIMA-interacting 1 OS=Homo sapiens GN=PIN1 PE=1 SV=1\n",
    "MADEEKLPPGWEKRMSRSSGRVYYFNHITNASQWERPSGNSSSGGKNGQGEPARVRCSHL\n",
    "LVKHSQSRRPSSWRQEKITRTKEEALELINGYIQKIKSGEEDFESLASQFSDCSSAKARG\n",
    "DLGAFSRGQMQKPFEDASFALRTGEMSGPVFTDSGIHIILRTE\n",
    "\n",
    "La prèmiere ligne (qui commence par >) est une annotation contenant des informations sur la séquence. Ensuite viennent une série de lignes contenant la séquence d'acides aminés (avec un maximum de 80 caractères par ligne, en général, pour faciliter la lisibilité). \n",
    "\n",
    "Un fichier FASTA est constitué d'une série de séquences formattées de cette façon."
   ]
  },
  {
   "cell_type": "code",
   "execution_count": 4,
   "metadata": {},
   "outputs": [],
   "source": [
    "def parseFASTASequencesFromFile(filename):\n",
    "    with open(filename, 'r') as f:\n",
    "        return parseFASTASequences(f)\n",
    "\n",
    "def parseFASTASequences(lines):\n",
    "    sequences = []\n",
    "    annotation, acids = \"\", \"\"\n",
    "    for line in lines:\n",
    "        line = line.strip()\n",
    "\n",
    "        justEndedPreviousSequence = (len(line) == 0 or line.startswith(\">\")) and acids != \"\"\n",
    "        if justEndedPreviousSequence:\n",
    "            sequences.append(Sequence(acids, annotation))\n",
    "\n",
    "        if line.startswith(\">\"):\n",
    "            annotation = line[1:]\n",
    "            acids = \"\"\n",
    "        else:\n",
    "            acids += line\n",
    "\n",
    "    return sequences\n"
   ]
  },
  {
   "cell_type": "markdown",
   "metadata": {},
   "source": [
    "Appliquons ces parsers aux fichiers donnés:"
   ]
  },
  {
   "cell_type": "code",
   "execution_count": 5,
   "metadata": {},
   "outputs": [],
   "source": [
    "sequencesFilenames = ['protein-sequences.fasta', 'WW-sequence.fasta']\n",
    "proteinSequences, wwSequences = [parseFASTASequencesFromFile(filename) for filename in sequencesFilenames]\n",
    "\n",
    "sequence = proteinSequences[0]"
   ]
  },
  {
   "cell_type": "markdown",
   "metadata": {},
   "source": [
    "Faisons quelques tests pour vérifier notre fonction:"
   ]
  },
  {
   "cell_type": "code",
   "execution_count": 6,
   "metadata": {},
   "outputs": [
    {
     "name": "stdout",
     "output_type": "stream",
     "text": [
      "La première sequence est: \n",
      "\n",
      "Annotation: sp|P46937|YAP1_HUMAN Transcriptional coactivator YAP1 OS=Homo sapiens GN=YAP1 PE=1 SV=2 \n",
      "Acids: MDPGQQPPPQPAPQGQGQPPSQPPQGQGPPSGPGQPAPAATQAAPQAPPAGHQIVHVRGDSETDLEALFNAVMNPKTANVPQTVPMRLRKLPDSFFKPPEPKSHSRQASTDAGTAGALTPQHVRAHSSPASLQLGAVSPGTLTPTGVVSGPAATPTAQHLRQSSFEIPDDVPLPAGWEMAKTSSGQRYFLNHIDQTTTWQDPRKAMLSQMNVTAPTSPPVQQNMMNSASGPLPDGWEQAMTQDGEIYYINHKNKTTSWLDPRLDPRFAMNQRISQSAPVKQPPPLAPQSPQGGVMGGSNSNQQQQMRLQQLQMEKERLRLKQQELLRQAMRNINPSTANSPKCQELALRSQLPTLEQDGGTQNPVSSPGMSQELRTMTTNSSDPFLNSGTYHSRDESTDSGLSMSSYSVPRTPDDFLNSVDEMDTGDTINQSTLPSQQNRFPDYLEAIPGTNVDLGTLEGDGMNIEGEELMPSLQEALSSDILNDMESVLAATKLDKESFLTWL\n"
     ]
    }
   ],
   "source": [
    "print(\"La première sequence est: \\n\")\n",
    "print(sequence)"
   ]
  },
  {
   "cell_type": "code",
   "execution_count": 7,
   "metadata": {},
   "outputs": [
    {
     "name": "stdout",
     "output_type": "stream",
     "text": [
      "\n",
      "Le premier acide aminé de la séquence est: M\n"
     ]
    }
   ],
   "source": [
    "print(\"\\nLe premier acide aminé de la séquence est: \" + sequence[0])"
   ]
  },
  {
   "cell_type": "markdown",
   "metadata": {},
   "source": [
    "### Matrices de substitution\n",
    "\n",
    "Les matrices de substitution sont aussi dans un format simple et intuitif. Le fichier commence par quelques lignes de commentaires (commencent par #) et puis est suivi de la grille des coûts de substitution.\n",
    "\n",
    "Voici un exemple simplifié:\n",
    "\n",
    ">```\n",
    "# Ma matrice\n",
    "# Il y 5 acides aminés dans cet exemple\n",
    "   A  R  N  D  C\n",
    "A  4 -1 -2 -2  0 -\n",
    "R -1  5  0 -2 -3  \n",
    "N -2  0  6  1 -3  \n",
    "D -2 -2  1  6 -3  \n",
    "C  0 -3 -3 -3  9 \n",
    "```"
   ]
  },
  {
   "cell_type": "code",
   "execution_count": 8,
   "metadata": {},
   "outputs": [],
   "source": [
    "def parseSubstitutionMatrixFromFile(filename):\n",
    "    with open(filename, 'r') as f:\n",
    "        return parseSubstitutionMatrix(f)\n",
    "\n",
    "def parseSubstitutionMatrix(lines):\n",
    "    matrix = {}\n",
    "    \n",
    "    for line in lines:\n",
    "        if line.startswith('#') or line.strip() == \"\": # Skip comments\n",
    "            continue\n",
    "        elif line.startswith('  '): # First line with letters\n",
    "            letters = line.strip().split()\n",
    "        else:\n",
    "            letter, *costs = line.strip().split()\n",
    "            matrix[letter] = {}\n",
    "            for (i, cost) in enumerate(costs):\n",
    "                matrix[letter][letters[i]] = int(cost)\n",
    "    \n",
    "    return Score(matrix)\n"
   ]
  },
  {
   "cell_type": "markdown",
   "metadata": {},
   "source": [
    "Essayons d'appliquer ce parser à nos fichiers:"
   ]
  },
  {
   "cell_type": "code",
   "execution_count": 9,
   "metadata": {},
   "outputs": [
    {
     "name": "stdout",
     "output_type": "stream",
     "text": [
      "\n",
      "Le coût de subsition de R et C dans Blosum62 devrait être -3 et est -3\n",
      "Il y a 24 colonnes dans Blosum62: *ABCDEFGHIKLMNPQRSTVWXYZ\n"
     ]
    }
   ],
   "source": [
    "matricesFilenames = ['blosum62.txt', 'blosum80.txt', 'pam60.txt', 'pam120.txt']\n",
    "blosum62, blosum80, pam60, pam120 = [parseSubstitutionMatrixFromFile(filename) for filename in matricesFilenames]\n",
    "\n",
    "print(\"\\nLe coût de subsition de R et C dans Blosum62 devrait être -3 et est %d\" % blosum62.getCost('R', 'C'))\n",
    "letters = blosum62.getLetters()\n",
    "print(\"Il y a %d colonnes dans Blosum62: %s\" % (len(letters), ''.join(sorted(letters))))"
   ]
  },
  {
   "cell_type": "markdown",
   "metadata": {},
   "source": [
    "# L'alignement de séquences\n",
    "\n",
    "Une approche pour comparer des séquences d'acides (et donc des protéines) et d'examiner leur similarité. Une approche courante est d'essayer de voir quelles séquences \"s'alignent\" le mieux. En d'autres mots, est-il facile de faire correspondre des acides aminés entre les 2 séquences? \n",
    "\n",
    "En quantifiant la difficulté d'alignement, on peut donc quantifier la similarité entre séquences d'acides aminés, et donc d'automatiquement comparer de grandes quantités de protéines."
   ]
  },
  {
   "cell_type": "markdown",
   "metadata": {},
   "source": [
    "# Alignement global \n",
    "\n",
    "Maintenant qu'on a défini ces ADT, on peut commencer à implementer les algorithmes d'alignement. Pour l'alignement global, nous allons implémenter l'algorithme de *Needleman-Wunsch* avec une penalité affine.\n",
    "\n",
    "## L'algorithme de Needleman-Wunsch\n",
    "\n",
    "Cet algorithme se base sur l'idée que le problème d'alignement est équivalent au problème de la distance d'édition. On utilise donc la même approche pour résoudre ce problème.\n",
    "\n",
    "Le premier pas est de construire une *matrice des scores*. Que répresente cette matrice?\n",
    "\n",
    "**TODO: bien expliquer ca**\n",
    "\n",
    "Pour la calculer, on utilise une approche de programmation dynamique. Ainsi, pour arriver à une certaine case X, on a soit:\n",
    "\n",
    "1. Fait correspondre la lettre précedente de la séquence 1 à un espace (on vient de la case du haut)\n",
    "2. Fait correspondre la lettre précedente de la séquence 2 à un espace (on vient de la case de gauche)\n",
    "3. Fait correspondre la lettre précedente de la séquence 1 avec la lettre précedente de la séquence 2 (on vient de la case en diagonale)\n",
    "\n",
    "Pour chacune des trois possibilités, on prend le cout de la case précedente et on y ajoute le cout de la transformation vers la case courante. Pour cela, on doit connaître le coût de la correspondance entre 2 acides aminés (dans les matrices PAM et BLOSUM, par exemple) et celui entre un acide aminé et un espace.\n",
    "\n",
    "Le score final sera le maximum de ces 3 scores.\n",
    "\n",
    "![Algorithme sans penalité affine](images/globalSimple.png)\n",
    "\n",
    "## Penalité affine\n",
    "Lorsque la penalité est affine, cela vaut dire que commencer une séquence d'espaces a un coût différent que de la prolonger. Par exemple, le 1er espace peut avoir un cout de 10 alors que les espaces qui le suivent n'ont qu'un cout de 2.\n",
    "\n",
    "Pour calculer le score d'une case, il y a maintenant beaucoup plus de possibilités, parce qu'il faut prendre en compte tous les voisins à gauche et en haut. Si implementé de facon naive, l'algorithme est en $O(m * n^2)$.\n",
    "\n",
    "**TODO: comprendre pourquoi c'est cette complexité**\n",
    "\n",
    "**TODO: expliquer comment les matrices V et W permettent de calculer les scores avec penalité affine**\n",
    "\n",
    "**TODO: expliquer pourquoi cela nous donne de nouveau un coût en $O(n * m)$**\n",
    "\n",
    "![Algorithme global avec penalité affine naif](images/globalAffineNaive.png)\n",
    "\n",
    "Pour implémenter la penalité affine efficacement, il faut utiliser 2 matrices supplémentaires (V et W), permettant ainsi de rester en $O(n * m)$\n",
    "\n",
    "![Algorithme global avec penalité affine efficace](images/globalAffineSmart.png)\n",
    "\n",
    "Cette approche se base sur l'idée que: \n",
    "\n",
    "----------"
   ]
  },
  {
   "cell_type": "code",
   "execution_count": 27,
   "metadata": {},
   "outputs": [],
   "source": [
    "def printMatrix(matrix):\n",
    "    for line in matrix:\n",
    "        print(line)\n",
    "\n",
    "def makeMatrix(width, height, val=0):\n",
    "    if type(val) in (int, str, bool):\n",
    "        return [[val] * width for _ in range(height)]\n",
    "    elif val == []:\n",
    "        return [[[] for _ in range(width)]for _ in range(height)]\n",
    "    else:\n",
    "        return [[val for _ in range(width)]for _ in range(height)]\n",
    "\n",
    "def getValue(matrix, x, y):\n",
    "    if x < 0 or y < 0:\n",
    "        return float('-inf')\n",
    "    else:\n",
    "        return matrix[y][x]\n",
    "\n",
    "def getSolutionsFromArrowGridHelper(previous, k, x, y, isGlobal=True):\n",
    "    completePaths = []\n",
    "    incompletePaths = [[(x, y)]]\n",
    "    numPaths = 1\n",
    "    \n",
    "    while len(incompletePaths) > 0 and len(completePaths) <= k:\n",
    "        path = incompletePaths.pop()\n",
    "        lastX, lastY = path[0]\n",
    "            \n",
    "        for (i, previousCoords) in enumerate(previous[lastY][lastX]):\n",
    "            if i > 0: # 2+ paths from this cell\n",
    "                numPaths += 1\n",
    "                if numPaths > k: # No need to consider new paths if we already have enough\n",
    "                    break\n",
    "            \n",
    "            # Ceci gère le cas où on fait de l'alignement local, que l'on décrit dans une section future)\n",
    "            if not isGlobal and previousCoords is None:\n",
    "                completePaths.append(path)\n",
    "                continue\n",
    "                \n",
    "            newX, newY = previousCoords\n",
    "            isComplete = (newX == 0 and newY == 0)\n",
    "            \n",
    "            if isComplete:\n",
    "                completePaths.append([(newX, newY)] + path)\n",
    "            else:\n",
    "                incompletePaths.append([(newX, newY)] + path)\n",
    "\n",
    "    return completePaths\n",
    "\n",
    "def getSolutionsFromArrowGrid(previous, k, x=None, y=None, isGlobal=True):\n",
    "    if x is None or y is None:\n",
    "        x, y = len(previous[0]) - 1, len(previous) - 1\n",
    "        \n",
    "    return getSolutionsFromArrowGridHelper(previous, k, x, y, isGlobal)\n",
    "\n",
    "            \n",
    "def getBestGlobalAlignements(sequence1, sequence2, score, startGap=4, keepGap=1, k=1):\n",
    "    \"\"\"\n",
    "    k: the maximum number of alignement returned (note: less than k alignements may be returned)\n",
    "    \"\"\"\n",
    "    height, width = sequence1.length() + 1, sequence2.length() + 1\n",
    "    v, w, s = [makeMatrix(width, height) for _ in range(3)]\n",
    "    previous = makeMatrix(width, height, [])\n",
    "    \n",
    "    for i in range(1, width):\n",
    "        s[0][i] = -(startGap + (i - 1) * keepGap)\n",
    "        v[0][i] = float('-inf')\n",
    "        previous[0][i] = [(i - 1, 0)]\n",
    "    \n",
    "    \n",
    "    for i in range(1, height):\n",
    "        s[i][0] = -(startGap + (i - 1) * keepGap)\n",
    "        w[i][0] = float('-inf')\n",
    "        previous[i][0] = [(0, i - 1)]\n",
    "    \n",
    "    \n",
    "    \n",
    "    for x in range(1, width):\n",
    "        for y in range(1, height):\n",
    "            v[y][x] = max(s[y - 1][x] - startGap, v[y - 1][x] - keepGap)\n",
    "            w[y][x] = max(s[y][x - 1] - startGap, w[y][x - 1] - keepGap)\n",
    "            replacementCost = score.getCost(sequence1[y - 1], sequence2[x - 1])\n",
    "\n",
    "            costsMap = {\n",
    "                (x, y - 1): v[y][x],\n",
    "                (x - 1, y): w[y][x],\n",
    "                (x - 1, y - 1): s[y - 1][x - 1] + replacementCost\n",
    "            }\n",
    "\n",
    "            s[y][x] = max(costsMap.values())\n",
    "\n",
    "            for coord, cost in costsMap.items():\n",
    "                if cost == s[y][x]:\n",
    "                    previous[y][x].append(coord)\n",
    "\n",
    "    score = s[height - 1][width - 1\n",
    "                         ]\n",
    "\n",
    "    return s, getSolutionsFromArrowGrid(previous, k), score, previous"
   ]
  },
  {
   "cell_type": "markdown",
   "metadata": {},
   "source": [
    "## Fonctions de visualisation\n",
    "\n",
    "On définit quelques fonction pour visualiser les chemins et la matrice des scores, ce qui séra très utile pour\n",
    "comprendre les actions de l'algorithme et les chemins créés."
   ]
  },
  {
   "cell_type": "code",
   "execution_count": 11,
   "metadata": {},
   "outputs": [],
   "source": [
    "from pprint import pprint\n",
    "def showPath(path, matrix=None, seq1=None, seq2=None):\n",
    "    x, y = path[-1]\n",
    "    if matrix is None:\n",
    "        height, width = x + 1, y + 1\n",
    "    else:\n",
    "        height, width = len(matrix), len(matrix[0])\n",
    "    \n",
    "    mat = makeMatrix(height, width)\n",
    "    for x, y in path:\n",
    "        mat[y][x] = 1\n",
    "    \n",
    "    matrix = np.array(mat)\n",
    "    plt.matshow(mat, cmap='Greys')\n",
    "    \n",
    "    # Axis Labels\n",
    "    addSequenceLabelsToAxis(seq1, seq2, withNumbers=False)\n",
    "    \n",
    "    plt.show()\n",
    "\n",
    "def addSequenceLabelsToAxis(seq1, seq2, withNumbers=True):\n",
    "    def getLabels(acids):\n",
    "        if withNumbers:\n",
    "            return ['0'] + ['%s -  %d' % (acid.upper(), i) for (i, acid) in enumerate(acids, start=1)]\n",
    "        else:\n",
    "            return ' ' + acids\n",
    "    \n",
    "    if seq1 is not None:\n",
    "        plt.yticks(range(seq1.length() + 1), getLabels(seq1.acids))\n",
    "        \n",
    "    if seq2 is not None:\n",
    "        plt.xticks(range(seq2.length() + 1), getLabels(seq2.acids))\n",
    "\n",
    "def printColoredMatrix(matrix, arrowMatrix=None, seq1=None, seq2=None, figsize=(8, 8), arrowColor='blue'):\n",
    "    matrix = np.array(matrix)\n",
    "    fig, ax = plt.subplots(figsize=figsize)\n",
    "    ax.matshow(matrix)\n",
    "\n",
    "    # Values\n",
    "    for (i, line) in enumerate(matrix):\n",
    "        for (j, val) in enumerate(line):\n",
    "            ax.text(j, i, str(val), va='center', ha='center')\n",
    "    \n",
    "    # Axis Labels\n",
    "    addSequenceLabelsToAxis(seq1, seq2)\n",
    "    \n",
    "    # Arrows\n",
    "    arrowprops = dict(facecolor=arrowColor, alpha=0.6, lw=0,\n",
    "                  shrink=0.2, width=2, headwidth=7, headlength=7)\n",
    "    \n",
    "    if arrowMatrix is None:\n",
    "        plt.show()\n",
    "        return\n",
    "    \n",
    "    for (y, line) in enumerate(arrowMatrix):\n",
    "        for (x, previousCells) in enumerate(line):\n",
    "            for coords in previousCells:\n",
    "                if coords is not None:\n",
    "                    ax.annotate(\"\", xy=coords, xytext=(x, y), arrowprops=arrowprops)\n",
    "    \n",
    "    plt.show()\n",
    " "
   ]
  },
  {
   "cell_type": "markdown",
   "metadata": {},
   "source": [
    "## Alignement global: un exemple\n",
    "\n",
    "Pour comprendre ce que fait l'algorithme, appliquons le à un exemple. On va aligner la séquence \"writers\" avec la séquence \"vintner\", voir l'alignement obtenu et visualiser la matrice de scores et le chemin."
   ]
  },
  {
   "cell_type": "code",
   "execution_count": 30,
   "metadata": {},
   "outputs": [
    {
     "name": "stdout",
     "output_type": "stream",
     "text": [
      "The score matrix is\n",
      "\n"
     ]
    },
    {
     "data": {
      "image/png": "[encoded data removed]",
      "text/plain": [
       "<matplotlib.figure.Figure at 0x7fb280f665f8>"
      ]
     },
     "metadata": {},
     "output_type": "display_data"
    },
    {
     "name": "stdout",
     "output_type": "stream",
     "text": [
      "-5\n"
     ]
    }
   ],
   "source": [
    "a = Sequence('writers')\n",
    "b = Sequence('vintner')\n",
    "\n",
    "scoreMatrix, paths, score, arrowMatrix = getBestGlobalAlignements(a, b, blosum62, startGap=12, keepGap=3, k=100)\n",
    "print(\"The score matrix is\\n\")\n",
    "printColoredMatrix(scoreMatrix, arrowMatrix, seq1=a, seq2=b)\n",
    "print(score)"
   ]
  },
  {
   "cell_type": "code",
   "execution_count": 31,
   "metadata": {},
   "outputs": [
    {
     "name": "stdout",
     "output_type": "stream",
     "text": [
      "Number of paths found: 1\n",
      "\n"
     ]
    },
    {
     "data": {
      "image/png": "[encoded data removed]",
      "text/plain": [
       "<matplotlib.figure.Figure at 0x7fb280f7f978>"
      ]
     },
     "metadata": {},
     "output_type": "display_data"
    },
    {
     "name": "stdout",
     "output_type": "stream",
     "text": [
      "[(0, 0), (1, 1), (2, 2), (3, 3), (4, 4), (5, 5), (6, 6), (7, 7)]\n"
     ]
    }
   ],
   "source": [
    "print(\"Number of paths found: %d\\n\" % len(paths))\n",
    "for path in paths:\n",
    "    showPath(path, seq1=a, seq2=b)\n",
    "    print(path)   "
   ]
  },
  {
   "cell_type": "code",
   "execution_count": 32,
   "metadata": {
    "scrolled": true
   },
   "outputs": [
    {
     "name": "stdout",
     "output_type": "stream",
     "text": [
      "\n",
      "The arrow matrix is\n",
      "\n",
      "[[], [(0, 0)], [(1, 0)], [(2, 0)], [(3, 0)], [(4, 0)], [(5, 0)], [(6, 0)]]\n",
      "[[(0, 0)], [(0, 0)], [(1, 0), (1, 1)], [(2, 1)], [(3, 0)], [(4, 1)], [(5, 1), (5, 0)], [(6, 1), (6, 0)]]\n",
      "[[(0, 1)], [(0, 1), (1, 1)], [(1, 1)], [(2, 1)], [(3, 1)], [(4, 1)], [(5, 1)], [(6, 1)]]\n",
      "[[(0, 2)], [(0, 2)], [(1, 2)], [(2, 2)], [(3, 2)], [(4, 2)], [(5, 2)], [(6, 2)]]\n",
      "[[(0, 3)], [(0, 3)], [(1, 3)], [(2, 3)], [(3, 3)], [(4, 4), (4, 3)], [(5, 4)], [(6, 4)]]\n",
      "[[(0, 4)], [(0, 4)], [(1, 4)], [(2, 4)], [(3, 4)], [(4, 4)], [(5, 4)], [(6, 4), (6, 5)]]\n",
      "[[(0, 5)], [(1, 5), (0, 5)], [(1, 5)], [(2, 5)], [(3, 5)], [(4, 5)], [(5, 5)], [(6, 5)]]\n",
      "[[(0, 6)], [(0, 6)], [(1, 6)], [(2, 6)], [(3, 6)], [(4, 6)], [(5, 6)], [(6, 6)]]\n"
     ]
    }
   ],
   "source": [
    "print(\"\\nThe arrow matrix is\\n\")\n",
    "printMatrix(arrowMatrix)"
   ]
  },
  {
   "cell_type": "markdown",
   "metadata": {},
   "source": [
    "# Retrouver les alignements\n",
    "\n",
    "Une fois qu'on a fait retrouvé le chemin optimal, on peut créer l'alignement qui y correspond."
   ]
  },
  {
   "cell_type": "code",
   "execution_count": 33,
   "metadata": {},
   "outputs": [],
   "source": [
    "def showAlignments(path, sequence1, sequence2):\n",
    "    text1, text2 = \"\", \"\"\n",
    "    firstCoord, *remainingCoords = path\n",
    "    prevX, prevY = firstCoord\n",
    "    \n",
    "    for (x, y) in remainingCoords:\n",
    "        if x == prevX and y == prevY + 1: # Down\n",
    "            text1 += sequence1[y - 1]\n",
    "            text2 += \"_\"\n",
    "        elif x == prevX + 1 and y == prevY: # Right\n",
    "            text1 += \"_\"\n",
    "            text2 += sequence2[x - 1]\n",
    "        elif x == prevX + 1 and y == prevY + 1: # Diagonal\n",
    "            text1 += sequence1[y - 1]\n",
    "            text2 += sequence2[x - 1]\n",
    "        \n",
    "        prevX, prevY = x, y\n",
    "    \n",
    "    return text1, text2\n",
    "\n",
    "def printAlignementResult(seq1, seq2, result, showScore = True, showLength = False):\n",
    "    scoreMatrix, paths, score, arrowMatrix = result\n",
    "    if showScore:\n",
    "        print(\"The alignements score of these sequences is %d\\n\" % score)\n",
    "        \n",
    "    print(seq1, end=\"\\n\\n\")\n",
    "    print(seq2, end=\"\\n\\n\")\n",
    "    print(\"Alignements found: %d (may be artificially limited)\\n\" % len(paths))\n",
    "    for (i, path) in enumerate(paths, start=1):\n",
    "        if len(paths) > 0:\n",
    "            print(\"Alignement number %d: \" % i)\n",
    "        \n",
    "        text1, text2 = showAlignments(path, seq1, seq2)\n",
    "        if showLength:\n",
    "            print(\"The length of the alignement is %d\" % len(text1))\n",
    "            \n",
    "        print(text1)\n",
    "        print(text2)\n",
    "        print()"
   ]
  },
  {
   "cell_type": "markdown",
   "metadata": {},
   "source": [
    "Maintenant qu'on a définit la fonction, regardons l'alignement créé pour l'exemple."
   ]
  },
  {
   "cell_type": "code",
   "execution_count": 34,
   "metadata": {},
   "outputs": [
    {
     "name": "stdout",
     "output_type": "stream",
     "text": [
      "The alignements score of these sequences is 0\n",
      "\n",
      "Annotation: None \n",
      "Acids: writers\n",
      "\n",
      "Annotation: None \n",
      "Acids: vintner\n",
      "\n",
      "Alignements found: 2 (may be artificially limited)\n",
      "\n",
      "Alignement number 1: \n",
      "wri_t_ers\n",
      "v_intner_\n",
      "\n",
      "Alignement number 2: \n",
      "wri_t_ers\n",
      "_vintner_\n",
      "\n"
     ]
    }
   ],
   "source": [
    "def compareSequences(seq1, seq2, matrix=blosum62, startGap=4, keepGap=1, k=5, showScore=True):\n",
    "    result = getBestGlobalAlignements(seq1, seq2, matrix, startGap, keepGap, k)\n",
    "    scoreMatrix, *rest, arrowMatrix = result\n",
    "    printAlignementResult(seq1, seq2, result, showScore)\n",
    "    #printColoredMatrix(scoreMatrix, arrowMatrix)\n",
    "\n",
    "compareSequences(a, b)"
   ]
  },
  {
   "cell_type": "markdown",
   "metadata": {},
   "source": [
    "Prenons des séquences réelles (présentes dans le fichier *ww-sequences.fasta*) et comparons-les."
   ]
  },
  {
   "cell_type": "code",
   "execution_count": 35,
   "metadata": {},
   "outputs": [
    {
     "name": "stdout",
     "output_type": "stream",
     "text": [
      "The alignements score of these sequences is 77\n",
      "\n",
      "Annotation: sp|P46937|171-204 \n",
      "Acids: VPLPAGWEMAKTSSGQRYFLNHIDQTTTWQDPRK\n",
      "\n",
      "Annotation: sp|P46934|610-643 \n",
      "Acids: SPLPPGWEERQDILGRTYYVNHESRRTQWKRPTP\n",
      "\n",
      "Alignements found: 1 (may be artificially limited)\n",
      "\n",
      "Alignement number 1: \n",
      "VPLPAGWEMAKTSSGQRYFLNHIDQTTTWQDPRK\n",
      "SPLPPGWEERQDILGRTYYVNHESRRTQWKRPTP\n",
      "\n"
     ]
    }
   ],
   "source": [
    "ww1, ww2, ww5 = wwSequences[0], wwSequences[1], wwSequences[4]\n",
    "compareSequences(ww1, ww2)"
   ]
  },
  {
   "cell_type": "markdown",
   "metadata": {},
   "source": [
    "On peut regarder quelle paires de séquences du fichier *ww-sequences.fasta* ont les meilleurs alignements."
   ]
  },
  {
   "cell_type": "code",
   "execution_count": 36,
   "metadata": {
    "scrolled": true
   },
   "outputs": [
    {
     "name": "stdout",
     "output_type": "stream",
     "text": [
      "The best matches have a score of 117\n",
      "They are between these sequences: \n",
      "\n",
      "------------- Sequences 1 -----------------\n",
      "\n",
      "Annotation: sp|P46934|610-643 \n",
      "Acids: SPLPPGWEERQDILGRTYYVNHESRRTQWKRPTP\n",
      "\n",
      "Annotation: sp|P46934|892-925 \n",
      "Acids: GPLPPGWEERTHTDGRIFYINHNIKRTQWEDPRL\n",
      "\n",
      "Alignements found: 2 (may be artificially limited)\n",
      "\n",
      "Alignement number 1: \n",
      "SPLPPGWEER_Q_DILGRTYYVNHESRRTQWKRPTP\n",
      "GPLPPGWEERTHTD__GRIFYINHNIKRTQWEDPRL\n",
      "\n",
      "Alignement number 2: \n",
      "SPLPPGWEER__QDILGRTYYVNHESRRTQWKRPTP\n",
      "GPLPPGWEERTHTD__GRIFYINHNIKRTQWEDPRL\n",
      "\n"
     ]
    }
   ],
   "source": [
    "import itertools\n",
    "\n",
    "def getBestMatches(sequences):\n",
    "    bestScore = float('-inf')\n",
    "    bestResults = {}\n",
    "    \n",
    "    for seq1, seq2 in itertools.combinations(sequences, 2):\n",
    "        scoreMatrix, paths, score, arrowMatrix = result = getBestGlobalAlignements(seq1, seq2, blosum62, startGap=4, keepGap=1, k=5)\n",
    "        if score > bestScore:\n",
    "            bestScore = score\n",
    "            bestResults = {(seq1, seq2): result}\n",
    "        elif score == bestScore:\n",
    "            bestResults[(seq1, seq2)] = result\n",
    "    \n",
    "    return bestResults, bestScore\n",
    "\n",
    "# TODO: improve perfomance. Right now it's dumb as a rock\n",
    "bestResults, score = getBestMatches(wwSequences)\n",
    "print(\"The best matches have a score of %d\" % score)\n",
    "print(\"They are between these sequences: \")\n",
    "i = 1\n",
    "for (seq1, seq2), result in bestResults.items():\n",
    "    print(\"\\n------------- Sequences %d -----------------\\n\" % i)\n",
    "    printAlignementResult(seq1, seq2, result, showScore=False)\n",
    "    i += 1"
   ]
  },
  {
   "cell_type": "markdown",
   "metadata": {},
   "source": [
    "# TODO TODO TODO\n",
    "\n",
    "![alt text](https://images.mysafetysign.com/img/lg/K/danger-sign-k-9458.png)\n",
    "\n",
    "\n",
    "Comparez vos résultats avec les résultats produit par LALIGN 1 . \n",
    "Utilisez les séquences du fichier WW-sequence.fasta. Lorsque vous alignez les séquences \n",
    "WW, lesquelles sont les plus similaires ? Viennent-elles de la même protéine ou de protéines \n",
    "différentes ? Consultez ceci via le site Uniprot 3  et expliquez ceci dans votre Jupyter notebook. "
   ]
  },
  {
   "cell_type": "markdown",
   "metadata": {},
   "source": [
    "# Alignement local\n",
    "\n",
    "Pour calculer l'alignement local entre séquences, on implémente l'algorithme de Smith-Waterman. Celui ci est extremement proche de l'algorithme de Needleman-Wunsch. Voici les différences:\n",
    "\n",
    "![Alignement local](images/local.png)\n",
    "\n",
    "Dans notre cas, on souhaite aussi trouver des alignement sous-optimaux (si il n'y en a pas assez d'optimaux).\n",
    "On les trouve avec cette approche:\n",
    "\n",
    "![Alignements sous-optimaux](images/suboptimal.png)"
   ]
  },
  {
   "cell_type": "markdown",
   "metadata": {},
   "source": [
    "## Étape 1: sans alignements sous-optimaux\n",
    "\n",
    "Nous allons d'abord commencer par implémenter une solution qui ne gère pas les alignements sous-optimaux. Dans la prochaine section, on s'occupera de mettre des valeurs à zéro, recalculer la matrice et trouver de nouveaux alignements (qui seront sous-optimaux)."
   ]
  },
  {
   "cell_type": "code",
   "execution_count": 19,
   "metadata": {},
   "outputs": [],
   "source": [
    "def findMaximumsInMatrix(matrix):\n",
    "    maximums = []\n",
    "    maxVal = float('-inf')\n",
    "    for (y, line) in enumerate(matrix):\n",
    "        for (x, value) in enumerate(line):\n",
    "            if value > maxVal:\n",
    "                maxVal = value\n",
    "                maximums = [(x, y)]\n",
    "            elif value == maxVal:\n",
    "                maximums.append((x, y))\n",
    "    return maximums\n",
    "\n",
    "def findBestLocalPaths(s, previous, pathsToFind):\n",
    "    bestCoords = findMaximumsInMatrix(s)\n",
    "    x, y = bestCoords[0]\n",
    "    score = s[y][x]\n",
    "    \n",
    "    if score == 0:\n",
    "        return [], float('-inf')\n",
    "    \n",
    "    paths = []\n",
    "    pathsLeft = pathsToFind\n",
    "    for (x, y) in bestCoords:\n",
    "        newPaths = getSolutionsFromArrowGrid(previous, pathsLeft, x, y, isGlobal=False)\n",
    "        \n",
    "        paths.extend(newPaths)\n",
    "        pathsLeft -= len(newPaths)\n",
    "        if pathsLeft <= 0:\n",
    "            break\n",
    "    \n",
    "    return paths, score\n",
    "    \n",
    "def computeMatrix(s, v, w, sequence1, sequence2, previous, scoreSub, startGap, keepGap):\n",
    "    height, width = sequence1.length() + 1, sequence2.length() + 1\n",
    "    for x in range(1, width):\n",
    "        for y in range(1, height):\n",
    "            v[y][x] = max(s[y - 1][x] - startGap, v[y - 1][x] - keepGap)\n",
    "            w[y][x] = max(s[y][x - 1] - startGap, w[y][x - 1] - keepGap)\n",
    "            replacementCost = scoreSub.getCost(sequence1[y - 1], sequence2[x - 1])\n",
    "\n",
    "            costsMap = {\n",
    "                (x, y - 1): v[y][x],\n",
    "                (x - 1, y): w[y][x],\n",
    "                (x - 1, y - 1): s[y - 1][x - 1] + replacementCost,\n",
    "                None: 0\n",
    "            }\n",
    "\n",
    "            s[y][x] = bestScore = max(costsMap.values())\n",
    "        \n",
    "            for coord, cost in costsMap.items():\n",
    "                if cost == bestScore:\n",
    "                    previous[y][x].append(coord)\n",
    "\n",
    "def getBestLocalAlignements(sequence1, sequence2, score, startGap=4, keepGap=1, l=1):\n",
    "    \"\"\"\n",
    "    l: the maximum number of alignement returned (note: less than l alignements may be returned)\n",
    "    \"\"\"\n",
    "    height, width = sequence1.length() + 1, sequence2.length() + 1\n",
    "    v, w, s = [makeMatrix(width, height) for _ in range(3)]\n",
    "    previous = makeMatrix(width, height, [])    \n",
    "    \n",
    "    pathsLeft = l\n",
    "    computeMatrix(s, v, w, sequence1, sequence2, previous, score, startGap, keepGap)\n",
    "    paths, bestScore = findBestLocalPaths(s, previous, pathsLeft)\n",
    "    \n",
    "    pathsLeft -= len(paths)\n",
    "        \n",
    "    return s, paths, bestScore, previous"
   ]
  },
  {
   "cell_type": "markdown",
   "metadata": {},
   "source": [
    "Observons les résultats de cette fonctions lorsqu'on utilise avec les séquences du premier exemple (\"writers\" et \"vintner\")"
   ]
  },
  {
   "cell_type": "code",
   "execution_count": 20,
   "metadata": {},
   "outputs": [
    {
     "name": "stdout",
     "output_type": "stream",
     "text": [
      "The alignements score of these sequences is 11\n",
      "\n",
      "Annotation: None \n",
      "Acids: writers\n",
      "\n",
      "Annotation: None \n",
      "Acids: vintner\n",
      "\n",
      "Alignements found: 2 (may be artificially limited)\n",
      "\n",
      "Alignement number 1: \n",
      "The length of the alignement is 4\n",
      "t_er\n",
      "tner\n",
      "\n",
      "Alignement number 2: \n",
      "The length of the alignement is 6\n",
      "i_t_er\n",
      "intner\n",
      "\n"
     ]
    }
   ],
   "source": [
    "s1, s2 = a, b\n",
    "result = getBestLocalAlignements(s1, s2, blosum62, startGap=4, keepGap=1, l=5)\n",
    "printAlignementResult(s1, s2, result, showScore = True, showLength = True)\n",
    "\n",
    "scoreMatrix, paths, score, arrowMatrix = result"
   ]
  },
  {
   "cell_type": "markdown",
   "metadata": {},
   "source": [
    "Visualisons la matrice des scores:"
   ]
  },
  {
   "cell_type": "code",
   "execution_count": 21,
   "metadata": {},
   "outputs": [
    {
     "data": {
      "image/png": "[encoded data removed]",
      "text/plain": [
       "<matplotlib.figure.Figure at 0x7fb280f964e0>"
      ]
     },
     "metadata": {},
     "output_type": "display_data"
    }
   ],
   "source": [
    "printColoredMatrix(scoreMatrix, arrowMatrix, figsize=(8, 8), arrowColor='black')"
   ]
  },
  {
   "cell_type": "markdown",
   "metadata": {},
   "source": [
    "L'algorithm fonctionne correctement. On peut voir qu'il commence de la case avec score maximum (7, 6) et crée le chemin à partir de là. Visualisons ces chemins:\n",
    "\n",
    "**TODO: check if we stop at the first 0 and can keep going**"
   ]
  },
  {
   "cell_type": "code",
   "execution_count": 22,
   "metadata": {},
   "outputs": [
    {
     "data": {
      "image/png": "[encoded data removed]",
      "text/plain": [
       "<matplotlib.figure.Figure at 0x7fb2835ddd68>"
      ]
     },
     "metadata": {},
     "output_type": "display_data"
    },
    {
     "name": "stdout",
     "output_type": "stream",
     "text": [
      "[(3, 3), (4, 4), (5, 4), (6, 5), (7, 6)]\n"
     ]
    },
    {
     "data": {
      "image/png": "[encoded data removed]",
      "text/plain": [
       "<matplotlib.figure.Figure at 0x7fb280f66e48>"
      ]
     },
     "metadata": {},
     "output_type": "display_data"
    },
    {
     "name": "stdout",
     "output_type": "stream",
     "text": [
      "[(1, 2), (2, 3), (3, 3), (4, 4), (5, 4), (6, 5), (7, 6)]\n"
     ]
    }
   ],
   "source": [
    "for path in paths:\n",
    "    showPath(path, scoreMatrix)\n",
    "    print(path)"
   ]
  },
  {
   "cell_type": "markdown",
   "metadata": {},
   "source": [
    "## Étape 2: avec alignements sous-optimaux\n",
    "\n",
    "La prochaine étape est de calculer les alignements sous-optimaux (si il n'y a pas assez d'alignements locaux avec score maximal).\n",
    "\n",
    "Imaginons qu'on ait trouvé le chemin avec le score maximal, comme dans l'image suivante:\n",
    "\n",
    "![Alignement local optimal](images/localBeforeZeroing.png)\n",
    "\n",
    "Après avoir trouvé la séquence à score maximal, on met toutes ces cellules à 0 et on recalcule la matrice dans le voisinage du chemin optimal, comme dans l'image suivante: \n",
    "\n",
    "![Alignements sous-optimaux](images/suboptimal.png)"
   ]
  },
  {
   "cell_type": "code",
   "execution_count": 23,
   "metadata": {},
   "outputs": [],
   "source": [
    "def clearPathsAndRecomputeMatrix(s, v, w, sequence1, sequence2, paths, scoreSub, previous, isInPath, startGap, keepGap):\n",
    "    height, width = sequence1.length() + 1, sequence2.length() + 1\n",
    "    \n",
    "    \n",
    "    # Mettre les valeurs des chemins à 0\n",
    "    for path in paths:\n",
    "        for (x, y) in path:\n",
    "            s[y][x] = 0\n",
    "            isInPath[y][x] = True\n",
    "    \n",
    "    # Recalculer la matrice\n",
    "    \n",
    "    \n",
    "    # Trouver la coordonée la plus basse (à partir duquel on va commencer à updater la matrice)\n",
    "    minX = min((min(path[0]) for path in paths))\n",
    "    minY = min((min(path[1]) for path in paths))\n",
    "\n",
    "    \n",
    "    # Right now, we recompute everything, but we can stop earlier\n",
    "    # An idea might be to stop if the new score is equal to the old score\n",
    "    for x in range(minX, width):\n",
    "        for y in range(minY, height):\n",
    "            # Don't ever recompute a value that has been set to 0\n",
    "            if isInPath[y][x]:\n",
    "                continue\n",
    "            \n",
    "            v[y][x] = max(s[y - 1][x] - startGap, v[y - 1][x] - keepGap)\n",
    "            w[y][x] = max(s[y][x - 1] - startGap, w[y][x - 1] - keepGap)\n",
    "            replacementCost = scoreSub.getCost(sequence1[y - 1], sequence2[x - 1])\n",
    "\n",
    "            costsMap = {\n",
    "                (x, y - 1): v[y][x],\n",
    "                (x - 1, y): w[y][x],\n",
    "                (x - 1, y - 1): s[y - 1][x - 1] + replacementCost,\n",
    "                None: 0\n",
    "            }\n",
    "\n",
    "            s[y][x] = bestScore = max(costsMap.values())\n",
    "        \n",
    "            # Cas spécial: les bords. Ils gardent un score 0 et n'ont pas de fleches\n",
    "            if x == 0 or y == 0:\n",
    "                previous[y][x] = [None]\n",
    "                s[y][x] = 0\n",
    "                continue\n",
    "        \n",
    "            previous[y][x] = []\n",
    "            for coord, cost in costsMap.items():\n",
    "                if cost == bestScore:\n",
    "                    previous[y][x].append(coord)\n",
    "    \n",
    "\n",
    "    \n",
    "def getAllBestLocalAlignements(sequence1, sequence2, scoreSub, startGap=4, keepGap=1, l=1):\n",
    "    \"\"\"\n",
    "    l: the maximum number of alignement returned (note: less than l alignements may be returned)\n",
    "    \"\"\"\n",
    "    height, width = sequence1.length() + 1, sequence2.length() + 1\n",
    "    v, w, s = [makeMatrix(width, height) for _ in range(3)]\n",
    "    previous = makeMatrix(width, height, [])   \n",
    "    isInPath = makeMatrix(width, height, False)\n",
    "    pathsLeft = l\n",
    "    \n",
    "    for i in range(width):\n",
    "        previous[0][i] = [None]\n",
    "    \n",
    "    for i in range(height):\n",
    "        previous[i][0] = [None]\n",
    "    \n",
    "    # Find best paths\n",
    "    computeMatrix(s, v, w, sequence1, sequence2, previous, scoreSub, startGap, keepGap)\n",
    "    paths, bestScore = newPaths, bestScore = findBestLocalPaths(s, previous, pathsLeft)    \n",
    "    pathsLeft -= len(newPaths)\n",
    "    printColoredMatrix(s, previous, seq1=sequence1, seq2=sequence2)\n",
    "    \n",
    "    \n",
    "    # If we don't find enough paths, keep searching for sub-optimal paths\n",
    "    while pathsLeft > 0:\n",
    "        clearPathsAndRecomputeMatrix(s, v, w, sequence1, sequence2, newPaths, scoreSub, previous, isInPath, startGap, keepGap)\n",
    "        printColoredMatrix(s, previous, seq1=sequence1, seq2=sequence2)\n",
    "        newPaths, bestCurrentScore = findBestLocalPaths(s, previous, pathsLeft)  \n",
    "        print(\"Found %d new paths: %s\" % (len(newPaths), newPaths))\n",
    "        pathsLeft -= len(newPaths)\n",
    "        paths.extend(newPaths)\n",
    "        \n",
    "        # No more good paths\n",
    "        if bestCurrentScore == 0 or len(newPaths) == 0:\n",
    "            print(\"Stopped searching because no good paths\")\n",
    "            break\n",
    "        \n",
    "    # TODO: remember the score associated with each path\n",
    "    return s, paths, bestScore, previous\n",
    "    \n",
    "    "
   ]
  },
  {
   "cell_type": "markdown",
   "metadata": {},
   "source": [
    "Appliquons cette fonction à notre premier exemple (\"writers\" et \"vintner\"). Pour mieux comprendre l'évolution de la matrice des scores, elle est aussi affichée chaque fois qu'elle est recalculée."
   ]
  },
  {
   "cell_type": "code",
   "execution_count": 24,
   "metadata": {},
   "outputs": [
    {
     "data": {
      "image/png": "[encoded data removed]",
      "text/plain": [
       "<matplotlib.figure.Figure at 0x7fb281265dd8>"
      ]
     },
     "metadata": {},
     "output_type": "display_data"
    },
    {
     "data": {
      "image/png": "[encoded data removed]",
      "text/plain": [
       "<matplotlib.figure.Figure at 0x7fb28108cda0>"
      ]
     },
     "metadata": {},
     "output_type": "display_data"
    },
    {
     "name": "stdout",
     "output_type": "stream",
     "text": [
      "Found 1 new paths: [[(6, 1), (7, 2)]]\n"
     ]
    },
    {
     "data": {
      "image/png": "[encoded data removed]",
      "text/plain": [
       "<matplotlib.figure.Figure at 0x7fb280f08518>"
      ]
     },
     "metadata": {},
     "output_type": "display_data"
    },
    {
     "name": "stdout",
     "output_type": "stream",
     "text": [
      "Found 1 new paths: [[(0, 2), (1, 3)]]\n"
     ]
    },
    {
     "data": {
      "image/png": "[encoded data removed]",
      "text/plain": [
       "<matplotlib.figure.Figure at 0x7fb280e6f6d8>"
      ]
     },
     "metadata": {},
     "output_type": "display_data"
    },
    {
     "name": "stdout",
     "output_type": "stream",
     "text": [
      "Found 4 new paths: [[(2, 6), (3, 7)], [(3, 6), (4, 7)], [(2, 5), (3, 6), (4, 7)], [(4, 6), (5, 7)]]\n"
     ]
    },
    {
     "data": {
      "image/png": "[encoded data removed]",
      "text/plain": [
       "<matplotlib.figure.Figure at 0x7fb280d0b208>"
      ]
     },
     "metadata": {},
     "output_type": "display_data"
    },
    {
     "name": "stdout",
     "output_type": "stream",
     "text": [
      "Found 0 new paths: []\n",
      "Stopped searching because no good paths\n",
      "The alignements score of these sequences is 11\n",
      "\n",
      "Annotation: None \n",
      "Acids: writers\n",
      "\n",
      "Annotation: None \n",
      "Acids: vintner\n",
      "\n",
      "Alignements found: 8 (may be artificially limited)\n",
      "\n",
      "Alignement number 1: \n",
      "The length of the alignement is 4\n",
      "t_er\n",
      "tner\n",
      "\n",
      "Alignement number 2: \n",
      "The length of the alignement is 6\n",
      "i_t_er\n",
      "intner\n",
      "\n",
      "Alignement number 3: \n",
      "The length of the alignement is 1\n",
      "r\n",
      "r\n",
      "\n",
      "Alignement number 4: \n",
      "The length of the alignement is 1\n",
      "i\n",
      "v\n",
      "\n",
      "Alignement number 5: \n",
      "The length of the alignement is 1\n",
      "s\n",
      "n\n",
      "\n",
      "Alignement number 6: \n",
      "The length of the alignement is 1\n",
      "s\n",
      "t\n",
      "\n",
      "Alignement number 7: \n",
      "The length of the alignement is 2\n",
      "rs\n",
      "nt\n",
      "\n",
      "Alignement number 8: \n",
      "The length of the alignement is 1\n",
      "s\n",
      "n\n",
      "\n"
     ]
    }
   ],
   "source": [
    "s1, s2 = a, b\n",
    "result = getAllBestLocalAlignements(s1, s2, blosum62, startGap=4, keepGap=1, l=10)\n",
    "printAlignementResult(s1, s2, result, showScore = True, showLength = True)\n",
    "\n",
    "scoreMatrix, paths, score, arrowMatrix = result"
   ]
  },
  {
   "cell_type": "code",
   "execution_count": 25,
   "metadata": {},
   "outputs": [
    {
     "data": {
      "image/png": "[encoded data removed]",
      "text/plain": [
       "<matplotlib.figure.Figure at 0x7fb280d98b70>"
      ]
     },
     "metadata": {},
     "output_type": "display_data"
    }
   ],
   "source": [
    "printColoredMatrix(scoreMatrix, arrowMatrix, figsize=(8, 8), arrowColor='black')"
   ]
  },
  {
   "cell_type": "markdown",
   "metadata": {},
   "source": [
    "Visualisons les chemins créés:"
   ]
  },
  {
   "cell_type": "code",
   "execution_count": 26,
   "metadata": {},
   "outputs": [
    {
     "data": {
      "image/png": "[encoded data removed]",
      "text/plain": [
       "<matplotlib.figure.Figure at 0x7fb280f7ce48>"
      ]
     },
     "metadata": {},
     "output_type": "display_data"
    },
    {
     "name": "stdout",
     "output_type": "stream",
     "text": [
      "[(3, 3), (4, 4), (5, 4), (6, 5), (7, 6)]\n"
     ]
    },
    {
     "data": {
      "image/png": "[encoded data removed]",
      "text/plain": [
       "<matplotlib.figure.Figure at 0x7fb280ec5c88>"
      ]
     },
     "metadata": {},
     "output_type": "display_data"
    },
    {
     "name": "stdout",
     "output_type": "stream",
     "text": [
      "[(1, 2), (2, 3), (3, 3), (4, 4), (5, 4), (6, 5), (7, 6)]\n"
     ]
    },
    {
     "data": {
      "image/png": "[encoded data removed]",
      "text/plain": [
       "<matplotlib.figure.Figure at 0x7fb2812855f8>"
      ]
     },
     "metadata": {},
     "output_type": "display_data"
    },
    {
     "name": "stdout",
     "output_type": "stream",
     "text": [
      "[(6, 1), (7, 2)]\n"
     ]
    },
    {
     "data": {
      "image/png": "[encoded data removed]",
      "text/plain": [
       "<matplotlib.figure.Figure at 0x7fb280d72e10>"
      ]
     },
     "metadata": {},
     "output_type": "display_data"
    },
    {
     "name": "stdout",
     "output_type": "stream",
     "text": [
      "[(0, 2), (1, 3)]\n"
     ]
    },
    {
     "data": {
      "image/png": "[encoded data removed]",
      "text/plain": [
       "<matplotlib.figure.Figure at 0x7fb280e05710>"
      ]
     },
     "metadata": {},
     "output_type": "display_data"
    },
    {
     "name": "stdout",
     "output_type": "stream",
     "text": [
      "[(2, 6), (3, 7)]\n"
     ]
    },
    {
     "data": {
      "image/png": "[encoded data removed]",
      "text/plain": [
       "<matplotlib.figure.Figure at 0x7fb2810f8c18>"
      ]
     },
     "metadata": {},
     "output_type": "display_data"
    },
    {
     "name": "stdout",
     "output_type": "stream",
     "text": [
      "[(3, 6), (4, 7)]\n"
     ]
    },
    {
     "data": {
      "image/png": "[encoded data removed]",
      "text/plain": [
       "<matplotlib.figure.Figure at 0x7fb281071eb8>"
      ]
     },
     "metadata": {},
     "output_type": "display_data"
    },
    {
     "name": "stdout",
     "output_type": "stream",
     "text": [
      "[(2, 5), (3, 6), (4, 7)]\n"
     ]
    },
    {
     "data": {
      "image/png": "[encoded data removed]",
      "text/plain": [
       "<matplotlib.figure.Figure at 0x7fb2812a8f28>"
      ]
     },
     "metadata": {},
     "output_type": "display_data"
    },
    {
     "name": "stdout",
     "output_type": "stream",
     "text": [
      "[(4, 6), (5, 7)]\n"
     ]
    }
   ],
   "source": [
    "for path in paths:\n",
    "    showPath(path, scoreMatrix)\n",
    "    print(path)"
   ]
  },
  {
   "cell_type": "markdown",
   "metadata": {},
   "source": [
    "# TODO TODO TODO\n",
    "\n",
    "![alt text](https://images.mysafetysign.com/img/lg/K/danger-sign-k-9458.png)\n",
    "\n",
    "\n",
    "Comparez vos résultats avec l’outil LALIGN 1 . \n",
    "Utilisez les séquences du fichier protein-sequences.fasta et détectez quelles sont les \n",
    "parties similaires. Expliquez les similarités en utilisant les informations sur les protéines venant \n",
    "du site UniProt 2. "
   ]
  },
  {
   "cell_type": "code",
   "execution_count": null,
   "metadata": {},
   "outputs": [],
   "source": []
  }
 ],
 "metadata": {
  "kernelspec": {
   "display_name": "Python 3",
   "language": "python",
   "name": "python3"
  },
  "language_info": {
   "codemirror_mode": {
    "name": "ipython",
    "version": 3
   },
   "file_extension": ".py",
   "mimetype": "text/x-python",
   "name": "python",
   "nbconvert_exporter": "python",
   "pygments_lexer": "ipython3",
   "version": "3.5.2"
  }
 },
 "nbformat": 4,
 "nbformat_minor": 1
}
