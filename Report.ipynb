{
 "cells": [
  {
   "cell_type": "code",
   "execution_count": 22,
   "metadata": {},
   "outputs": [],
   "source": [
    "%matplotlib inline\n",
    "import numpy as np\n",
    "import matplotlib.pyplot as plt"
   ]
  },
  {
   "cell_type": "markdown",
   "metadata": {},
   "source": [
    "# Abstract Data Types\n",
    "\n",
    "Nous commencons par créer une classe Sequence, qui est l'ADT qui représente une séquence d’acides aminés et toutes les opérations qu’on  peut  exécuter  sur  une  séquence (exemple:  retourner  un  acide  aminé  à  une  certaine  position ou visualiser la séquence en format FASTA)."
   ]
  },
  {
   "cell_type": "code",
   "execution_count": 23,
   "metadata": {},
   "outputs": [],
   "source": [
    "class Sequence:\n",
    "    def __init__(self, acids, annotation=None):\n",
    "        self.acids = acids.upper()\n",
    "        self.annotation = annotation\n",
    "        \n",
    "    def __getitem__(self, position):\n",
    "        \"\"\" Renvoie l'acide aminé à la position donnée. Syntaxe: sequence[position] \"\"\"\n",
    "        return self.acids[position]\n",
    "    \n",
    "    def toFASTAFormat(self):\n",
    "        return \">\" + self.annotation + \"\\n\" + self.acids\n",
    "    \n",
    "    def __repr__(self):\n",
    "        return \"Annotation: %s \\nAcids: %s\" % (self.annotation, self.acids)\n",
    "    \n",
    "    def length(self):\n",
    "        return len(self.acids)\n",
    "        "
   ]
  },
  {
   "cell_type": "markdown",
   "metadata": {},
   "source": [
    "Nous créeons aussi une classe Score, qui est un ADT qui représente une matrice de substitution et les opérations qu'on peut exécuter sur cette matrice."
   ]
  },
  {
   "cell_type": "code",
   "execution_count": 24,
   "metadata": {},
   "outputs": [],
   "source": [
    "class Score:\n",
    "    def __init__(self):\n",
    "        self.letters = set()\n",
    "        self.costs = {}\n",
    "    \n",
    "    def getNumLetters(self):\n",
    "        return len(self.letters)\n",
    "    \n",
    "    def getLetters(self):\n",
    "        return self.letters\n",
    "\n",
    "    def getCost(self, a, b):\n",
    "        return self.costs[(a, b)]\n",
    "    \n",
    "    def addCost(self, a, b, cost):\n",
    "        self.letters.add(a)\n",
    "        self.letters.add(b)\n",
    "        self.costs[(a.upper(), b.upper())] = cost"
   ]
  },
  {
   "cell_type": "markdown",
   "metadata": {},
   "source": [
    "## Parser\n",
    "\n",
    "Nous devons créer des objets des classes Sequence et Score à partir des fichiers fournis. Il faut donc créer un parser pour les fichier des séquences (FASTA) et pour les fichiers avec les matrices de substitution (BLOSUM et PAM)."
   ]
  },
  {
   "cell_type": "markdown",
   "metadata": {},
   "source": [
    "## FASTA\n",
    "\n",
    "Les séquences d'acides aminés sont codées dans le format FASTA. Ce format est très simple.\n",
    "Chaque séquence est encodée par une annotation et ensuite la liste d'acides aminés. Voici un exemple:\n",
    "\n",
    ">&gt;sp|Q13526|PIN1_HUMAN Peptidyl-prolyl cis-trans isomerase NIMA-interacting 1 OS=Homo sapiens GN=PIN1 PE=1 SV=1\n",
    "MADEEKLPPGWEKRMSRSSGRVYYFNHITNASQWERPSGNSSSGGKNGQGEPARVRCSHL\n",
    "LVKHSQSRRPSSWRQEKITRTKEEALELINGYIQKIKSGEEDFESLASQFSDCSSAKARG\n",
    "DLGAFSRGQMQKPFEDASFALRTGEMSGPVFTDSGIHIILRTE\n",
    "\n",
    "La prèmiere ligne (qui commence par >) est une annotation contenant des informations sur la séquence. Ensuite viennent une série de lignes contenant la séquence d'acides aminés (avec un maximum de 80 caractères par ligne, en général, pour faciliter la lisibilité). \n",
    "\n",
    "Un fichier FASTA est constitué d'une série de séquences formattées de cette façon."
   ]
  },
  {
   "cell_type": "code",
   "execution_count": 25,
   "metadata": {},
   "outputs": [],
   "source": [
    "def parseFASTASequencesFromFile(filename):\n",
    "    with open(filename, 'r') as f:\n",
    "        return parseFASTASequences(f)\n",
    "\n",
    "def parseFASTASequences(lines):\n",
    "    sequences = []\n",
    "    annotation, acids = \"\", \"\"\n",
    "    for line in lines:\n",
    "        line = line.strip()\n",
    "\n",
    "        justEndedPreviousSequence = (len(line) == 0 or line.startswith(\">\")) and acids != \"\"\n",
    "        if justEndedPreviousSequence:\n",
    "            sequences.append(Sequence(acids, annotation))\n",
    "\n",
    "        if line.startswith(\">\"):\n",
    "            annotation = line[1:]\n",
    "            acids = \"\"\n",
    "        else:\n",
    "            acids += line.upper()\n",
    "\n",
    "    return sequences\n"
   ]
  },
  {
   "cell_type": "markdown",
   "metadata": {},
   "source": [
    "Appliquons ces parsers aux fichiers donnés:"
   ]
  },
  {
   "cell_type": "code",
   "execution_count": 26,
   "metadata": {},
   "outputs": [],
   "source": [
    "sequencesFilenames = ['protein-sequences.fasta', 'WW-sequence.fasta']\n",
    "proteinSequences, wwSequences = [parseFASTASequencesFromFile(filename) for filename in sequencesFilenames]\n",
    "\n",
    "sequence = proteinSequences[0]"
   ]
  },
  {
   "cell_type": "markdown",
   "metadata": {},
   "source": [
    "Faisons quelques tests pour vérifier notre fonction:"
   ]
  },
  {
   "cell_type": "code",
   "execution_count": 27,
   "metadata": {},
   "outputs": [
    {
     "name": "stdout",
     "output_type": "stream",
     "text": [
      "La première sequence est: \n",
      "\n",
      "Annotation: sp|P46937|YAP1_HUMAN Transcriptional coactivator YAP1 OS=Homo sapiens GN=YAP1 PE=1 SV=2 \n",
      "Acids: MDPGQQPPPQPAPQGQGQPPSQPPQGQGPPSGPGQPAPAATQAAPQAPPAGHQIVHVRGDSETDLEALFNAVMNPKTANVPQTVPMRLRKLPDSFFKPPEPKSHSRQASTDAGTAGALTPQHVRAHSSPASLQLGAVSPGTLTPTGVVSGPAATPTAQHLRQSSFEIPDDVPLPAGWEMAKTSSGQRYFLNHIDQTTTWQDPRKAMLSQMNVTAPTSPPVQQNMMNSASGPLPDGWEQAMTQDGEIYYINHKNKTTSWLDPRLDPRFAMNQRISQSAPVKQPPPLAPQSPQGGVMGGSNSNQQQQMRLQQLQMEKERLRLKQQELLRQAMRNINPSTANSPKCQELALRSQLPTLEQDGGTQNPVSSPGMSQELRTMTTNSSDPFLNSGTYHSRDESTDSGLSMSSYSVPRTPDDFLNSVDEMDTGDTINQSTLPSQQNRFPDYLEAIPGTNVDLGTLEGDGMNIEGEELMPSLQEALSSDILNDMESVLAATKLDKESFLTWL\n"
     ]
    }
   ],
   "source": [
    "print(\"La première sequence est: \\n\")\n",
    "print(sequence)"
   ]
  },
  {
   "cell_type": "code",
   "execution_count": 28,
   "metadata": {},
   "outputs": [
    {
     "name": "stdout",
     "output_type": "stream",
     "text": [
      "\n",
      "Le premier acide aminé de la séquence est: M\n"
     ]
    }
   ],
   "source": [
    "print(\"\\nLe premier acide aminé de la séquence est: \" + sequence[0])"
   ]
  },
  {
   "cell_type": "markdown",
   "metadata": {},
   "source": [
    "### Matrices de substitution\n",
    "\n",
    "Les matrices de substitution sont aussi dans un format simple et intuitif. Le fichier commence par quelques lignes de commentaires (commencent par #) et puis est suivi de la grille des coûts de substitution.\n",
    "\n",
    "Voici un exemple simplifié:\n",
    "\n",
    ">```\n",
    "# Ma matrice\n",
    "# Il y 5 acides aminés dans cet exemple\n",
    "   A  R  N  D  C\n",
    "A  4 -1 -2 -2  0 -\n",
    "R -1  5  0 -2 -3  \n",
    "N -2  0  6  1 -3  \n",
    "D -2 -2  1  6 -3  \n",
    "C  0 -3 -3 -3  9 \n",
    "```"
   ]
  },
  {
   "cell_type": "code",
   "execution_count": 29,
   "metadata": {},
   "outputs": [],
   "source": [
    "def parseSubstitutionMatrixFromFile(filename):\n",
    "    with open(filename, 'r') as f:\n",
    "        return parseSubstitutionMatrix(f)\n",
    "\n",
    "def parseSubstitutionMatrix(lines):\n",
    "    score = Score()\n",
    "    \n",
    "    for line in lines:\n",
    "        if line.startswith('#') or line.strip() == \"\": # Skip comments\n",
    "            continue\n",
    "        elif line.startswith('  '): # First line with letters\n",
    "            letters = line.strip().upper().split()\n",
    "        else:\n",
    "            letterA, *costs = line.strip().upper().split()\n",
    "            for (letterB, cost) in zip(letters, costs):\n",
    "                score.addCost(letterA.upper(), letterB, int(cost))\n",
    "    \n",
    "    return score\n"
   ]
  },
  {
   "cell_type": "markdown",
   "metadata": {},
   "source": [
    "Essayons d'appliquer ce parser à nos fichiers:"
   ]
  },
  {
   "cell_type": "code",
   "execution_count": 30,
   "metadata": {},
   "outputs": [
    {
     "name": "stdout",
     "output_type": "stream",
     "text": [
      "\n",
      "Le coût de subsition de R et C dans Blosum62 devrait être -3 et est -3\n",
      "Il y a 24 colonnes dans Blosum62: *ABCDEFGHIKLMNPQRSTVWXYZ\n"
     ]
    }
   ],
   "source": [
    "matricesFilenames = ['blosum62.txt', 'blosum80.txt', 'pam60.txt', 'pam120.txt']\n",
    "blosum62, blosum80, pam60, pam120 = [parseSubstitutionMatrixFromFile(filename) for filename in matricesFilenames]\n",
    "\n",
    "print(\"\\nLe coût de subsition de R et C dans Blosum62 devrait être -3 et est %d\" % blosum62.getCost('R', 'C'))\n",
    "letters = blosum62.getLetters()\n",
    "print(\"Il y a %d colonnes dans Blosum62: %s\" % (len(letters), ''.join(sorted(letters))))"
   ]
  },
  {
   "cell_type": "markdown",
   "metadata": {},
   "source": [
    "# L'alignement de séquences\n",
    "\n",
    "Une approche pour comparer des séquences d'acides (et donc des protéines) et d'examiner leur similarité. Une approche courante est d'essayer de voir quelles séquences \"s'alignent\" le mieux. En d'autres mots, est-il facile de faire correspondre des acides aminés entre les 2 séquences? \n",
    "\n",
    "En quantifiant la difficulté d'alignement, on peut donc quantifier la similarité entre séquences d'acides aminés, et donc d'automatiquement comparer de grandes quantités de protéines."
   ]
  },
  {
   "cell_type": "markdown",
   "metadata": {},
   "source": [
    "# Alignement global \n",
    "\n",
    "Maintenant qu'on a défini ces ADT, on peut commencer à implementer les algorithmes d'alignement. Pour l'alignement global, nous allons implémenter l'algorithme de *Needleman-Wunsch* avec une penalité affine.\n",
    "\n",
    "## L'algorithme de Needleman-Wunsch\n",
    "\n",
    "Cet algorithme se base sur l'idée que le problème d'alignement est équivalent au problème de la distance d'édition. On utilise donc la même approche pour résoudre ce problème.\n",
    "\n",
    "**TODO: beaucoup mieux expliquer ca**\n",
    "\n",
    "### Étape 1: calculer la matrice des scores\n",
    "\n",
    "Le premier pas est de construire une *matrice des scores*. Les scores représentent la distance d'édition entre des parties des deux séquences. Si le score est très bas, il faut beaucoup éditer, donc les séquences ne sont pas similaires. Si le score est élévé, le coût d'édition est bas et donc les séquences sont similaires.\n",
    "\n",
    "**expliquer comment la matrice est configurée, et que le height correspond à la sequence 1 et le width à la séquence 2**\n",
    "\n",
    "Pour calculer la matrice des scores, on utilise une approche de programmation dynamique. Ainsi, pour arriver à une certaine case X, on a soit:\n",
    "\n",
    "1. Fait correspondre la lettre précedente de la séquence 1 à un espace (on vient de la case du haut)\n",
    "2. Fait correspondre la lettre précedente de la séquence 2 à un espace (on vient de la case de gauche)\n",
    "3. Fait correspondre la lettre précedente de la séquence 1 avec la lettre précedente de la séquence 2 (on vient de la case en diagonale)\n",
    "\n",
    "![Algorithme sans penalité affine](images/matrixSimple.png)\n",
    "\n",
    "Pour chacune des trois possibilités, on prend le coût de la case précedente et on y ajoute le coût de la transformation vers la case courante. Pour cela, on doit connaître le coût de la correspondance entre 2 acides aminés (donné dans les matrices PAM et BLOSUM, par exemple) et celui entre un acide aminé et un espace (**donner plus d'info et un exemple de valeurs**).\n",
    "\n",
    "Le score final sera le maximum de ces 3 scores:\n",
    "\n",
    "$$max(S(i - 1, j) + G, S(i, j - 1) + G, S(i - 1, j - 1) + coutRemplacement(i, j)$$\n",
    "\n",
    "La première ligne et colonne de la matrice sont un cas spécial, car elles correspondent à une séquence d'espaces. On peut donc réviser notre formule pour obtenir:\n",
    "\n",
    "$$\n",
    "S(i, j) = max \\begin{cases} \n",
    "      i * G & si \\, i \\geq 0 \\, et \\, j = 0\\\\\n",
    "      j * G & si \\, i = 0 \\, et \\, j \\geq 0\\\\\n",
    "      max(S(i - 1, j) + G, S(i, j - 1) + G, S(i - 1, j - 1) + coutRemplacement(i, j) & ailleurs\n",
    "\\end{cases}\n",
    "$$\n"
   ]
  },
  {
   "cell_type": "markdown",
   "metadata": {},
   "source": [
    "## Penalité affine\n",
    "Lorsque la penalité est affine, cela vaut dire que commencer une séquence d'espaces a un coût différent que de la prolonger. Par exemple, le 1er espace peut avoir un coût de 10 alors que les espaces qui le suivent n'ont qu'un coût de 2.\n",
    "\n",
    "Pour calculer le score d'une case, il faut tester toutes les séquences d'espaces venant du haut et de la gauche (vu que le coût des espaces n'est plus linéaire) plutôt que juste tester le chemin via la case directement à gauche ou en haut."
   ]
  },
  {
   "cell_type": "markdown",
   "metadata": {},
   "source": [
    "![Algorithme global naif avec penalité affine](images/matrixComplex.png)\n",
    "\n",
    "La façon la plus simple de calculer ce score est de calculer les scores venant de chacun des voisins (dont tous ceux à gauche et en haut) et de prendre le maximum. Malheureusement, cette approche augmente la complexité de l'algorithme parce qu'il peut il y avoir un grand nombre de voisins.\n",
    "\n",
    "Si $n$ et $m$ sont les tailles des 2 séquences, avec $n > m$, alors la complexité de cette approche est $O(mn²)$, parce pour une case X, il y a approximativement $n$ voisins qui mennent à la case via des espaces et dont il faut calculer le score."
   ]
  },
  {
   "cell_type": "markdown",
   "metadata": {},
   "source": [
    "### Une meilleure approche\n",
    "\n",
    "Il est possible de garder la complexité de $O(n * m)$. L'idée est simple. Soit $V(i, j)$ le meilleur score que l'on peut obtenir en arrivant à la case $(i, j)$ de la gauche. Comment peut-t-on le calculer?\n",
    "\n",
    "Si on vient de la gauche pour aboutir à la case courante, alors on a soit:\n",
    "\n",
    "**1. Commencé une séquence d'espaces à partir de la case directement à gauche**\n",
    "\n",
    ">Dans ce cas, le score est très facile à calculer. C'est simplement le score de la case à gauche $(i - 1, j)$ + le coût de commencer une nouvelle séquence d'espaces: $S(i - 1, j) - I$.\n",
    "\n",
    "**2. Continué une séquence d'espaces (qui a commencé avant la case directement à gauche)**\n",
    "\n",
    ">Dans ce cas, on continue une séquence d'espaces. On sait que le coût pour paser de la case $(i - 1, j)$ à la case $(i, j)$ est de $E$, parce qu'on prolonge une séquence d'espaces. On sait aussi que la séquence d'espaces a commencé à gauche de $(i - 1, j)$. Il ne reste donc plus qu'à découvrir quel est le meilleur score que l'on peut obtenir en arrivant en $(i - 1, j)$  de la gauche.\n",
    "\n",
    ">Heureusement, on connait ce coût! C'est $V(i - 1, j)$. \n",
    "\n",
    ">On en déduit que le meilleur score obtenu en prolongeant une séquence d'espaces est donc $V(i - 1, j) - E$.\n",
    "\n",
    "#### Mettant le tout ensemble\n",
    "\n",
    "Comme $V(i, j)$ est le meilleur score que l'on peut obtenir en arrivant de la gauche à la case $(i, j)$, il faut donc prendre le score maximum entre ces 2 posssibilités. On obtient donc l'expression suivante pour $V(i, j)$:\n",
    "\n",
    "$$\n",
    "V(i, j) = max \\begin{cases} \n",
    "      S(i - 1, j) - I\\\\\n",
    "      V(i - 1, j) - E\n",
    "\\end{cases}\n",
    "$$\n",
    "\n",
    "Par un raisonaiment similaire, on peut calculer $W(i, j)$, qui est le meilleur score que l'on peut obtenir en arrivant du haut à la case $(i, j)$\n",
    "\n",
    "$$\n",
    "W(i, j) = max \\begin{cases} \n",
    "      S(i, j - 1) - I\\\\\n",
    "      W(i, j - 1) - E\n",
    "\\end{cases}\n",
    "$$\n",
    "\n",
    "Avec toutes ces informations, il est donc facile de calculer $S(i, j)$. On peut y aboutir soit via une case à gauche, soit via une case en haut, soit via la case directement avant en diagonale. Le score gardé est le maximum de ces 3 possibilités.\n",
    "\n",
    "$$\n",
    "S(i, j) = max \\begin{cases} \n",
    "      S(i - 1, j - 1) + coutCorrespondance(i, j)\\\\\n",
    "      V(i, j)\\\\\n",
    "      W(i, j)\n",
    "\\end{cases}\n",
    "$$\n",
    "\n",
    "L'image suivant illustre cette approche:\n",
    "\n",
    "![Algorithme global avec penalité affine efficace](images/matrixTripleExplanation.png)\n",
    "\n",
    "Si on utilise 2 matrices supplémentaires (V et W), on peut donc calculer la valeur de chaque case en $O(1)$, car il n'y a que 5 valeurs à calculer au maximum. Vu qu'il y a $n * m$ cases, cette approche permet donc d'avoir de nouveau une complexité de $O(n * m)$."
   ]
  },
  {
   "cell_type": "markdown",
   "metadata": {},
   "source": [
    "### Étape 2: calculer le meilleur chemin\n",
    "\n",
    "Imaginons qu'on ait calculé la matrice des scores, ayant obtenu ceci:\n",
    "\n",
    "![Exemple de matrice des scores](images/scoreMatrix.png)\n",
    "\n",
    "Dans cette matrice, il y a des flèches entre des cases. Lorsqu'on calcule le score d'une cas, on prend le maximum des scores calculés via ses 3 voisins. Pour chaque voisin X qui permet d'obtenir ce score maximal, on ajoute une flèche entre X et Y. On peut utiliser ces flèches pour trouver les chemin optimaux entre la dernière case et la première.\n",
    "\n",
    "Dans cet exemple, on peut voir que le meilleur chemin est la diagonale de la matrice. \n",
    "\n",
    "![Chemin trouvé dans l'exemple](images/pathFound.png)\n",
    "\n",
    "Dans certains cas, il y a plusieures flèches entrant dans une cellule. Dans ce cas, il y a plusieurs chemins et donc plusieurs alignements globaux optimaux.\n",
    "\n",
    "### Étape 3: recréer l'alignement à partir du chemin\n",
    "\n",
    "Une fois qu'on a obtenu les chemins, il est très facile de recréer l'alignement optimal, car chaque deplacement a un sens précis:\n",
    "\n",
    "1. Si on descend, on a fait correspondre l'acide aminé courant de la 1ere séquence avec un espace (gap)\n",
    "2. Si on va à droite, on a fait correspondre l'acide aminé courant de la 2eme séquence avec un espace (gap)\n",
    "3. Si on va en diagonale, on a fait correspondre l'acide aminé courant de la 1ere séquence avec l'acide aminé courant de la 2ème séquencce\n",
    "\n",
    "Avec ces 3 règles, on peut facilement récréer l'alignement et donc d'obtenir un résultat comme ceci:\n",
    "\n",
    "![Alignement de l'exemple](images/textAlignment.png)"
   ]
  },
  {
   "cell_type": "code",
   "execution_count": 31,
   "metadata": {},
   "outputs": [],
   "source": [
    "def printMatrix(matrix):\n",
    "    for line in matrix:\n",
    "        print(line)\n",
    "\n",
    "def makeMatrix(width, height, val=0):\n",
    "    if type(val) in (int, str, bool):\n",
    "        return [[val] * width for _ in range(height)]\n",
    "    elif val == []:\n",
    "        return [[[] for _ in range(width)]for _ in range(height)]\n",
    "    else:\n",
    "        return [[val for _ in range(width)]for _ in range(height)]\n",
    "\n",
    "def getValue(matrix, x, y):\n",
    "    if x < 0 or y < 0:\n",
    "        return float('-inf')\n",
    "    else:\n",
    "        return matrix[y][x]\n",
    "\n",
    "def getSolutionsFromArrowGridHelper(previous, k, x, y, isGlobal=True):\n",
    "    completePaths = []\n",
    "    incompletePaths = [[(x, y)]]\n",
    "    numPaths = 1\n",
    "    \n",
    "    while len(incompletePaths) > 0 and len(completePaths) <= k:\n",
    "        path = incompletePaths.pop()\n",
    "        lastX, lastY = path[0]\n",
    "            \n",
    "        for (i, previousCoords) in enumerate(previous[lastY][lastX]):\n",
    "            if i > 0: # 2+ paths from this cell\n",
    "                numPaths += 1\n",
    "                if numPaths > k: # No need to consider new paths if we already have enough\n",
    "                    break\n",
    "            \n",
    "            # Ceci gère le cas où on fait de l'alignement local, que l'on décrit dans une section future)\n",
    "            if not isGlobal and previousCoords is None:\n",
    "                completePaths.append(path)\n",
    "                continue\n",
    "                \n",
    "            newX, newY = previousCoords\n",
    "            isComplete = (newX == 0 and newY == 0)\n",
    "            \n",
    "            if isComplete:\n",
    "                completePaths.append([(newX, newY)] + path)\n",
    "            else:\n",
    "                incompletePaths.append([(newX, newY)] + path)\n",
    "\n",
    "    return completePaths\n",
    "\n",
    "def getSolutionsFromArrowGrid(previous, k, x=None, y=None, isGlobal=True):\n",
    "    if x is None or y is None:\n",
    "        x, y = len(previous[0]) - 1, len(previous) - 1\n",
    "        \n",
    "    return getSolutionsFromArrowGridHelper(previous, k, x, y, isGlobal)\n",
    "\n",
    "def getPathScores(paths, s):\n",
    "    pathScores = {}\n",
    "    for path in paths:\n",
    "        x, y = path[-1]\n",
    "        pathScores[(x, y)] = s[y][x]\n",
    "    \n",
    "    return pathScores\n",
    "            \n",
    "def getBestGlobalAlignements(sequence1, sequence2, score, startGap=4, keepGap=1, k=1):\n",
    "    \"\"\"\n",
    "    k: the maximum number of alignement returned (note: less than k alignements may be returned)\n",
    "    \"\"\"\n",
    "    height, width = sequence1.length() + 1, sequence2.length() + 1\n",
    "    v, w, s = [makeMatrix(width, height) for _ in range(3)]\n",
    "    previous = makeMatrix(width, height, [])\n",
    "    \n",
    "    for i in range(1, width):\n",
    "        s[0][i] = -(startGap + (i - 1) * keepGap)\n",
    "        v[0][i] = float('-inf')\n",
    "        previous[0][i] = [(i - 1, 0)]\n",
    "    \n",
    "    \n",
    "    for i in range(1, height):\n",
    "        s[i][0] = -(startGap + (i - 1) * keepGap)\n",
    "        w[i][0] = float('-inf')\n",
    "        previous[i][0] = [(0, i - 1)]\n",
    "    \n",
    "    for x in range(1, width):\n",
    "        for y in range(1, height):\n",
    "            v[y][x] = max(s[y - 1][x] - startGap, v[y - 1][x] - keepGap)\n",
    "            w[y][x] = max(s[y][x - 1] - startGap, w[y][x - 1] - keepGap)\n",
    "            replacementCost = score.getCost(sequence1[y - 1], sequence2[x - 1])\n",
    "\n",
    "            costsMap = {\n",
    "                (x, y - 1): v[y][x],\n",
    "                (x - 1, y): w[y][x],\n",
    "                (x - 1, y - 1): s[y - 1][x - 1] + replacementCost\n",
    "            }\n",
    "\n",
    "            s[y][x] = max(costsMap.values())\n",
    "\n",
    "            for coord, cost in costsMap.items():\n",
    "                if cost == s[y][x]:\n",
    "                    previous[y][x].append(coord)\n",
    "\n",
    "    score = s[height - 1][width - 1]\n",
    "    paths = getSolutionsFromArrowGrid(previous, k)\n",
    "    pathScores = getPathScores(paths, s)\n",
    "    \n",
    "\n",
    "    return s, paths, score, previous, pathScores"
   ]
  },
  {
   "cell_type": "markdown",
   "metadata": {},
   "source": [
    "## Fonctions de visualisation\n",
    "\n",
    "On définit quelques fonction pour visualiser les chemins et la matrice des scores, ce qui séra très utile pour\n",
    "comprendre les actions de l'algorithme et les chemins créés."
   ]
  },
  {
   "cell_type": "code",
   "execution_count": 32,
   "metadata": {},
   "outputs": [],
   "source": [
    "from pprint import pprint\n",
    "def showPath(path, matrix=None, seq1=None, seq2=None):\n",
    "    x, y = path[-1]\n",
    "    if matrix is None:\n",
    "        height, width = x + 1, y + 1\n",
    "    else:\n",
    "        height, width = len(matrix), len(matrix[0])\n",
    "    \n",
    "    mat = makeMatrix(width, height)\n",
    "    for x, y in path:\n",
    "        mat[y][x] = 1\n",
    "    \n",
    "    plt.matshow(mat, cmap='Greys')\n",
    "    \n",
    "    # Axis Labels\n",
    "    addSequenceLabelsToAxis(seq1, seq2, withNumbers=False)\n",
    "    \n",
    "    plt.show()\n",
    "\n",
    "def addSequenceLabelsToAxis(seq1, seq2, withNumbers=True):\n",
    "    def getLabels(acids):\n",
    "        if withNumbers:\n",
    "            return ['0'] + ['%s -  %d' % (acid.upper(), i) for (i, acid) in enumerate(acids, start=1)]\n",
    "        else:\n",
    "            return ' ' + acids\n",
    "    \n",
    "    if seq1 is not None:\n",
    "        plt.yticks(range(seq1.length() + 1), getLabels(seq1.acids))\n",
    "        \n",
    "    if seq2 is not None:\n",
    "        plt.xticks(range(seq2.length() + 1), getLabels(seq2.acids))\n",
    "\n",
    "def printColoredMatrix(matrix, arrowMatrix=None, seq1=None, seq2=None, figsize=(8, 8), arrowColor='blue'):\n",
    "    matrix = np.array(matrix)\n",
    "    fig, ax = plt.subplots(figsize=figsize)\n",
    "    ax.matshow(matrix)\n",
    "\n",
    "    # Values\n",
    "    for (i, line) in enumerate(matrix):\n",
    "        for (j, val) in enumerate(line):\n",
    "            ax.text(j, i, str(val), va='center', ha='center')\n",
    "    \n",
    "    # Axis Labels\n",
    "    addSequenceLabelsToAxis(seq1, seq2)\n",
    "    \n",
    "    # Arrows\n",
    "    arrowprops = dict(facecolor=arrowColor, alpha=0.6, lw=0,\n",
    "                  shrink=0.2, width=2, headwidth=7, headlength=7)\n",
    "    \n",
    "    if arrowMatrix is None:\n",
    "        plt.show()\n",
    "        return\n",
    "    \n",
    "    for (y, line) in enumerate(arrowMatrix):\n",
    "        for (x, previousCells) in enumerate(line):\n",
    "            for coords in previousCells:\n",
    "                if coords is not None:\n",
    "                    ax.annotate(\"\", xy=coords, xytext=(x, y), arrowprops=arrowprops)\n",
    "    \n",
    "    plt.show()\n",
    " "
   ]
  },
  {
   "cell_type": "markdown",
   "metadata": {},
   "source": [
    "## Alignement global: un exemple\n",
    "\n",
    "Pour comprendre ce que fait l'algorithme, appliquons le à un exemple. On va aligner la séquence \"writers\" avec la séquence \"vintner\", voir l'alignement obtenu et visualiser la matrice de scores et le chemin."
   ]
  },
  {
   "cell_type": "code",
   "execution_count": 33,
   "metadata": {},
   "outputs": [
    {
     "name": "stdout",
     "output_type": "stream",
     "text": [
      "The score matrix is\n",
      "\n"
     ]
    },
    {
     "data": {
      "image/png": "[encoded data removed]",
      "text/plain": [
       "<matplotlib.figure.Figure at 0x7f8f5c1d2710>"
      ]
     },
     "metadata": {},
     "output_type": "display_data"
    },
    {
     "name": "stdout",
     "output_type": "stream",
     "text": [
      "-5\n"
     ]
    }
   ],
   "source": [
    "a = Sequence('writers')\n",
    "b = Sequence('vintner')\n",
    "\n",
    "scoreMatrix, paths, score, arrowMatrix, pathScores = getBestGlobalAlignements(a, b, blosum62, startGap=12, keepGap=3, k=100)\n",
    "print(\"The score matrix is\\n\")\n",
    "printColoredMatrix(scoreMatrix, arrowMatrix, seq1=a, seq2=b)\n",
    "print(score)"
   ]
  },
  {
   "cell_type": "code",
   "execution_count": 34,
   "metadata": {},
   "outputs": [
    {
     "name": "stdout",
     "output_type": "stream",
     "text": [
      "Number of paths found: 1\n",
      "\n"
     ]
    },
    {
     "data": {
      "image/png": "[encoded data removed]",
      "text/plain": [
       "<matplotlib.figure.Figure at 0x7f8f5c1d2320>"
      ]
     },
     "metadata": {},
     "output_type": "display_data"
    },
    {
     "name": "stdout",
     "output_type": "stream",
     "text": [
      "[(0, 0), (1, 1), (2, 2), (3, 3), (4, 4), (5, 5), (6, 6), (7, 7)]\n"
     ]
    }
   ],
   "source": [
    "print(\"Number of paths found: %d\\n\" % len(paths))\n",
    "for path in paths:\n",
    "    showPath(path, seq1=a, seq2=b)\n",
    "    print(path)   "
   ]
  },
  {
   "cell_type": "code",
   "execution_count": 35,
   "metadata": {
    "scrolled": true
   },
   "outputs": [
    {
     "name": "stdout",
     "output_type": "stream",
     "text": [
      "\n",
      "The arrow matrix is\n",
      "\n",
      "[[], [(0, 0)], [(1, 0)], [(2, 0)], [(3, 0)], [(4, 0)], [(5, 0)], [(6, 0)]]\n",
      "[[(0, 0)], [(0, 0)], [(1, 0), (1, 1)], [(2, 1)], [(3, 0)], [(4, 1)], [(5, 1), (5, 0)], [(6, 1), (6, 0)]]\n",
      "[[(0, 1)], [(0, 1), (1, 1)], [(1, 1)], [(2, 1)], [(3, 1)], [(4, 1)], [(5, 1)], [(6, 1)]]\n",
      "[[(0, 2)], [(0, 2)], [(1, 2)], [(2, 2)], [(3, 2)], [(4, 2)], [(5, 2)], [(6, 2)]]\n",
      "[[(0, 3)], [(0, 3)], [(1, 3)], [(2, 3)], [(3, 3)], [(4, 4), (4, 3)], [(5, 4)], [(6, 4)]]\n",
      "[[(0, 4)], [(0, 4)], [(1, 4)], [(2, 4)], [(3, 4)], [(4, 4)], [(5, 4)], [(6, 4), (6, 5)]]\n",
      "[[(0, 5)], [(1, 5), (0, 5)], [(1, 5)], [(2, 5)], [(3, 5)], [(4, 5)], [(5, 5)], [(6, 5)]]\n",
      "[[(0, 6)], [(0, 6)], [(1, 6)], [(2, 6)], [(3, 6)], [(4, 6)], [(5, 6)], [(6, 6)]]\n"
     ]
    }
   ],
   "source": [
    "print(\"\\nThe arrow matrix is\\n\")\n",
    "printMatrix(arrowMatrix)"
   ]
  },
  {
   "cell_type": "markdown",
   "metadata": {},
   "source": [
    "# Retrouver les alignements\n",
    "\n",
    "Une fois qu'on a fait retrouvé le chemin optimal, on peut créer l'alignement qui y correspond."
   ]
  },
  {
   "cell_type": "code",
   "execution_count": 36,
   "metadata": {},
   "outputs": [],
   "source": [
    "def showAlignments(path, sequence1, sequence2):\n",
    "    text1, text2 = \"\", \"\"\n",
    "    firstCoord, *remainingCoords = path\n",
    "    prevX, prevY = firstCoord\n",
    "    \n",
    "    for (x, y) in remainingCoords:\n",
    "        if x == prevX and y == prevY + 1: # Down\n",
    "            text1 += sequence1[y - 1]\n",
    "            text2 += \"_\"\n",
    "        elif x == prevX + 1 and y == prevY: # Right\n",
    "            text1 += \"_\"\n",
    "            text2 += sequence2[x - 1]\n",
    "        elif x == prevX + 1 and y == prevY + 1: # Diagonal\n",
    "            text1 += sequence1[y - 1]\n",
    "            text2 += sequence2[x - 1]\n",
    "        \n",
    "        prevX, prevY = x, y\n",
    "    \n",
    "    return text1, text2\n",
    "\n",
    "def printAlignments(path, sequence1, sequence2, subMatrix):\n",
    "    text1, correspondance, text2 = \"\", \"\", \"\"\n",
    "    firstCoord, *remainingCoords = path\n",
    "    prevX, prevY = firstCoord\n",
    "    \n",
    "    for (i, (x, y)) in enumerate(remainingCoords):\n",
    "        if x == prevX and y == prevY + 1: # Down\n",
    "            text1 += sequence1[y - 1]\n",
    "            text2 += \"_\"\n",
    "            correspondance += \" \"\n",
    "        elif x == prevX + 1 and y == prevY: # Right\n",
    "            text1 += \"_\"\n",
    "            text2 += sequence2[x - 1]\n",
    "            correspondance += \" \"\n",
    "        elif x == prevX + 1 and y == prevY + 1: # Diagonal\n",
    "            text1 += sequence1[y - 1]\n",
    "            text2 += sequence2[x - 1]\n",
    "            \n",
    "            letter1, letter2 = text1[-1], text2[-1]\n",
    "            if letter1 == letter2:\n",
    "                correspondance += \"|\"\n",
    "            elif subMatrix.getCost(letter1, letter2) >= 3:\n",
    "                correspondance += \":\"\n",
    "            elif subMatrix.getCost(letter1, letter2) > -2:\n",
    "                correspondance += \".\"\n",
    "            else:\n",
    "                correspondance += \" \"\n",
    "            \n",
    "        prevX, prevY = x, y\n",
    "        \n",
    "        if i % 80 == 0 and i > 0:\n",
    "            print('\\n'.join([text1, correspondance, text2]))\n",
    "            print()\n",
    "            text1, correspondance, text2 = \"\", \"\", \"\"\n",
    "    \n",
    "    print('\\n'.join([text1, correspondance, text2]))\n",
    "    \n",
    "\n",
    "def printAlignementResult(seq1, seq2, result, subMatrix, showScore = True, showLength = False):\n",
    "    scoreMatrix, paths, score, arrowMatrix, pathScores = result\n",
    "    if showScore:\n",
    "        print(\"The best score is %d\\n\" % score)\n",
    "        \n",
    "    print(seq1, end=\"\\n\\n\")\n",
    "    print(seq2, end=\"\\n\\n\")\n",
    "    print(\"Alignements found: %d (may be artificially limited)\\n\" % len(paths))\n",
    "    for (i, path) in enumerate(paths, start=1):\n",
    "        if len(paths) > 0:\n",
    "            print(\"Alignement number %d with score %d: \\n\" % (i, pathScores[path[-1]]))\n",
    "            \n",
    "        if showLength:\n",
    "            print(\"The length of the alignement is %d\" % len(path))\n",
    "               \n",
    "        printAlignments(path, seq1, seq2, subMatrix)\n",
    "        print()"
   ]
  },
  {
   "cell_type": "markdown",
   "metadata": {},
   "source": [
    "Maintenant qu'on a définit la fonction, regardons l'alignement créé pour l'exemple."
   ]
  },
  {
   "cell_type": "code",
   "execution_count": 37,
   "metadata": {},
   "outputs": [
    {
     "name": "stdout",
     "output_type": "stream",
     "text": [
      "The best score is -5\n",
      "\n",
      "Annotation: None \n",
      "Acids: WRITERS\n",
      "\n",
      "Annotation: None \n",
      "Acids: VINTNER\n",
      "\n",
      "Alignements found: 1 (may be artificially limited)\n",
      "\n",
      "Alignement number 1 with score -5: \n",
      "\n",
      "WRITERS\n",
      "   |...\n",
      "VINTNER\n",
      "\n"
     ]
    }
   ],
   "source": [
    "def compareSequences(seq1, seq2, subMatrix=blosum62, startGap=4, keepGap=1, k=5, showScore=True):\n",
    "    result = getBestGlobalAlignements(seq1, seq2, subMatrix, startGap, keepGap, k)\n",
    "    scoreMatrix, score, previous, arrowMatrix, pathScores = result\n",
    "    printAlignementResult(seq1, seq2, result,  subMatrix, showScore)\n",
    "    #printColoredMatrix(scoreMatrix, arrowMatrix)\n",
    "\n",
    "compareSequences(a, b, startGap=12, keepGap=3)"
   ]
  },
  {
   "cell_type": "markdown",
   "metadata": {},
   "source": [
    "Prenons des séquences réelles (présentes dans le fichier *ww-sequences.fasta*) et comparons-les."
   ]
  },
  {
   "cell_type": "code",
   "execution_count": 38,
   "metadata": {},
   "outputs": [
    {
     "name": "stdout",
     "output_type": "stream",
     "text": [
      "The best score is 77\n",
      "\n",
      "Annotation: sp|P46937|171-204 \n",
      "Acids: VPLPAGWEMAKTSSGQRYFLNHIDQTTTWQDPRK\n",
      "\n",
      "Annotation: sp|P46934|610-643 \n",
      "Acids: SPLPPGWEERQDILGRTYYVNHESRRTQWKRPTP\n",
      "\n",
      "Alignements found: 1 (may be artificially limited)\n",
      "\n",
      "Alignement number 1 with score 77: \n",
      "\n",
      "VPLPAGWEMAKTSSGQRYFLNHIDQTTTWQDPRK\n",
      " |||.||| ...  |..|:.|| ...|.|. |..\n",
      "SPLPPGWEERQDILGRTYYVNHESRRTQWKRPTP\n",
      "\n"
     ]
    }
   ],
   "source": [
    "ww1, ww2 = wwSequences[0], wwSequences[1]\n",
    "compareSequences(ww1, ww2)"
   ]
  },
  {
   "cell_type": "markdown",
   "metadata": {},
   "source": [
    "On peut regarder quelle paires de séquences du fichier *ww-sequences.fasta* ont les meilleurs alignements."
   ]
  },
  {
   "cell_type": "code",
   "execution_count": 39,
   "metadata": {
    "scrolled": true
   },
   "outputs": [
    {
     "name": "stdout",
     "output_type": "stream",
     "text": [
      "The best matches have a score of 117\n",
      "They are between these sequences: \n",
      "\n",
      "------------- Sequences 1 -----------------\n",
      "\n",
      "Annotation: sp|P46934|610-643 \n",
      "Acids: SPLPPGWEERQDILGRTYYVNHESRRTQWKRPTP\n",
      "\n",
      "Annotation: sp|P46934|892-925 \n",
      "Acids: GPLPPGWEERTHTDGRIFYINHNIKRTQWEDPRL\n",
      "\n",
      "Alignements found: 2 (may be artificially limited)\n",
      "\n",
      "Alignement number 1 with score 117: \n",
      "\n",
      "SPLPPGWEER_Q_DILGRTYYVNHESRRTQWKRPTP\n",
      ".||||||||| . |  ||.:|:||. .||||. |. \n",
      "GPLPPGWEERTHTD__GRIFYINHNIKRTQWEDPRL\n",
      "\n",
      "Alignement number 2 with score 117: \n",
      "\n",
      "SPLPPGWEER__QDILGRTYYVNHESRRTQWKRPTP\n",
      ".|||||||||  .|  ||.:|:||. .||||. |. \n",
      "GPLPPGWEERTHTD__GRIFYINHNIKRTQWEDPRL\n",
      "\n"
     ]
    }
   ],
   "source": [
    "import itertools\n",
    "\n",
    "def getBestMatches(sequences):\n",
    "    bestScore = float('-inf')\n",
    "    bestResults = {}\n",
    "    \n",
    "    for seq1, seq2 in itertools.combinations(sequences, 2):\n",
    "        scoreMatrix, paths, score, arrowMatrix, pathScores = result = getBestGlobalAlignements(seq1, seq2, blosum62, startGap=4, keepGap=1, k=5)\n",
    "        if score > bestScore:\n",
    "            bestScore = score\n",
    "            bestResults = {(seq1, seq2): result}\n",
    "        elif score == bestScore:\n",
    "            bestResults[(seq1, seq2)] = result\n",
    "    \n",
    "    return bestResults, bestScore\n",
    "\n",
    "# TODO: improve perfomance. Right now I'm computing the best path every time, \n",
    "# which is not needed except for the best sequences. Ideally this would be a lazy operation.\n",
    "bestResults, score = getBestMatches(wwSequences)\n",
    "print(\"The best matches have a score of %d\" % score)\n",
    "print(\"They are between these sequences: \")\n",
    "i = 1\n",
    "for (seq1, seq2), result in bestResults.items():\n",
    "    print(\"\\n------------- Sequences %d -----------------\\n\" % i)\n",
    "    printAlignementResult(seq1, seq2, result, subMatrix=blosum62, showScore=False)\n",
    "    i += 1"
   ]
  },
  {
   "cell_type": "markdown",
   "metadata": {},
   "source": [
    "# TODO TODO TODO\n",
    "\n",
    "![alt text](https://images.mysafetysign.com/img/lg/K/danger-sign-k-9458.png)\n",
    "\n",
    "\n",
    "Comparez vos résultats avec les résultats produit par LALIGN 1 . \n",
    "Utilisez les séquences du fichier WW-sequence.fasta. Lorsque vous alignez les séquences \n",
    "WW, lesquelles sont les plus similaires ? Viennent-elles de la même protéine ou de protéines \n",
    "différentes ? Consultez ceci via le site Uniprot 3  et expliquez ceci dans votre Jupyter notebook. "
   ]
  },
  {
   "cell_type": "markdown",
   "metadata": {},
   "source": [
    "# Alignement local\n",
    "\n",
    "L'alignement global cherche le meilleur alignement entre 2 séquences. L'alignement local est plus général, parce qu'il cherche le meilleur alignement entre des parties des 2 séquences, qui peuvent être plus courtes que les séquences. Cela permet de trouver des *morceaux* de séquences qui sont très similaires.\n",
    "\n",
    "![Alignement local](images/local.png)\n",
    "\n",
    "Dans notre cas, on souhaite aussi trouver des alignement sous-optimaux (si il n'y en a pas assez d'optimaux).\n",
    "On les trouve avec cette approche:\n",
    "\n",
    "![Alignements sous-optimaux](images/suboptimal.png)"
   ]
  },
  {
   "cell_type": "markdown",
   "metadata": {},
   "source": [
    "La facon la plus naive de trouver le meilleur alignement local est d'appliquer l'algorithme d'alignement global à toutes les paires des *morceaux* des 2 séquences et de garder celles qui ont le meilleur score. Bien sûr, ceci est extrêmement peu efficace vu qu'il y a $2^{n + m}$ paires possibles. Il faut donc trouver une meilleure approche.\n",
    "\n",
    "## L'algorithme de Smith Waterman\n",
    "\n",
    "Imaginons qu'on appliqué l'alignement global, calculé la matrice des scores et obtenu un chemin avec les scores suivants:\n",
    "\n",
    "$$ [0, -2, -4, -5, -2, 1, 2, 5, 8, 10, 7, 6]$$\n",
    "\n",
    "On peut remarquer plusieurs choses:\n",
    "\n",
    "1. L'alignement qui se termine à la case de score 10 est meilleur que celui qui continue jusqu'au bout et a un score 6. Il faut donc s'arreter au maximum du chemin et ne pas garder les cases qui le suivent et font diminuer le score.\n",
    "\n",
    "2. Certaines cases de cet alignement ont un score négatif. Si on ne éliminait ces acides aminés du chemin (et ceux qui le précedent, vu que le chemin doit être continu), alors le nouvel alignement ne pourrait être que meilleur, car il ne serait pas penalisé par ces acides aminés dissimilaires.\n",
    "\n",
    "Ces idées ménent à l'algorithme de *Smith-Waterman*, qui est une variante de l'algorithme de *Needleman-Wunsch*. Voici les différences:\n",
    "\n",
    "- On n'admet pas de scores négatifs. Si le score calculé est négatif, on le remplace par 0.\n",
    "- Le retour en arrière (pour trouver le chemin) commence à partir de la case avec **le score maximum de toute la matrice** et on s'arrete dès qu'on trouve un 0.\n",
    "\n",
    "Si un score est négatif, cela veut dire que les séquences jusqu'à cette position n'ont pas de similarités. Mieux vaut donc mettre le score à 0 pour éliminer l'influence de ce mauvais alignement, et ainsi permettre de trouver les alignement locaux qui commencent à partir de cette case. Ainsi, on ne pénalise pas les séquences qui commencent à une position interne, ce qui permet donc de trouver le meilleur alignement local.\n",
    "\n",
    "L'algorithme est donc régi par cette nouvelle équation:\n",
    "\n",
    "$$\n",
    "S(i, j) = max \\begin{cases} \n",
    "      S(i - 1, j - 1) + coutCorrespondance(i, j)\\\\\n",
    "      V(i, j)\\\\\n",
    "      W(i, j)\\\\\n",
    "      0\n",
    "\\end{cases}\n",
    "$$\n",
    "\n",
    "**Corollaire:** la première colonne et ligne ont un score de 0, vu que des scores négatifs ne sont pas tolérés."
   ]
  },
  {
   "cell_type": "markdown",
   "metadata": {},
   "source": [
    "## Étape 1: sans alignements sous-optimaux\n",
    "\n",
    "Nous allons d'abord commencer par implémenter une solution qui ne gère pas les alignements sous-optimaux. Dans la prochaine section, on s'occupera de mettre des valeurs à zéro, recalculer la matrice et trouver de nouveaux alignements (qui seront sous-optimaux)."
   ]
  },
  {
   "cell_type": "code",
   "execution_count": 40,
   "metadata": {},
   "outputs": [],
   "source": [
    "def findMaximumsInMatrix(matrix):\n",
    "    maximum = []\n",
    "    maxVal = float('-inf')\n",
    "    for (y, line) in enumerate(matrix):\n",
    "        for (x, value) in enumerate(line):\n",
    "            if value > maxVal:\n",
    "                maxVal = value\n",
    "                maximums = [(x, y)]\n",
    "            elif value == maxVal:\n",
    "                maximums.append((x, y))\n",
    "    return maximums\n",
    "\n",
    "def findMatrixMaxPosAndScore(matrix):\n",
    "    bestCoords = None\n",
    "    maxVal = float('-inf')\n",
    "    for (y, line) in enumerate(matrix):\n",
    "        for (x, value) in enumerate(line):\n",
    "            if value > maxVal:\n",
    "                maxVal = value\n",
    "                bestCoords = (x, y)\n",
    "            \n",
    "    return bestCoords, maxVal\n",
    "\n",
    "def getBestLocalPath(s, previous):\n",
    "    (x, y), score = findMatrixMaxPosAndScore(s)\n",
    "    \n",
    "    if score == 0:\n",
    "        return None, float('-inf')\n",
    "    else:    \n",
    "        paths = getSolutionsFromArrowGrid(previous, 1, x, y, isGlobal=False)\n",
    "        path = paths[0]\n",
    "        return path, score\n",
    "\n",
    "def findBestLocalPaths(s, previous, pathsToFind):\n",
    "    bestCoords = findMaximumsInMatrix(s)\n",
    "    x, y = bestCoords[0]\n",
    "    score = s[y][x]\n",
    "    \n",
    "    \n",
    "    if score == 0:\n",
    "        return [], float('-inf')\n",
    "    \n",
    "    paths = []\n",
    "    pathsLeft = pathsToFind\n",
    "    for (x, y) in bestCoords:\n",
    "        newPaths = getSolutionsFromArrowGrid(previous, pathsLeft, x, y, isGlobal=False)\n",
    "        \n",
    "        paths.extend(newPaths)\n",
    "        pathsLeft -= len(newPaths)\n",
    "        if pathsLeft <= 0:\n",
    "            break\n",
    "    \n",
    "    \n",
    "    return paths, score\n",
    "    \n",
    "def computeMatrix(s, v, w, sequence1, sequence2, previous, scoreSub, startGap, keepGap):\n",
    "    height, width = sequence1.length() + 1, sequence2.length() + 1\n",
    "    for x in range(1, width):\n",
    "        for y in range(1, height):\n",
    "            v[y][x] = max(s[y - 1][x] - startGap, v[y - 1][x] - keepGap)\n",
    "            w[y][x] = max(s[y][x - 1] - startGap, w[y][x - 1] - keepGap)\n",
    "            replacementCost = scoreSub.getCost(sequence1[y - 1], sequence2[x - 1])\n",
    "\n",
    "            costsMap = {\n",
    "                (x, y - 1): v[y][x],\n",
    "                (x - 1, y): w[y][x],\n",
    "                (x - 1, y - 1): s[y - 1][x - 1] + replacementCost,\n",
    "                None: 0\n",
    "            }\n",
    "\n",
    "            s[y][x] = bestScore = max(costsMap.values())\n",
    "            # Lorsque le score est 0, ne pas calculer voisins\n",
    "            if bestScore == 0:\n",
    "                previous[y][x] = [None]\n",
    "                continue\n",
    "        \n",
    "            for coord, cost in costsMap.items():\n",
    "                if cost == bestScore:\n",
    "                    previous[y][x].append(coord)\n",
    "\n",
    "def getBestLocalAlignements(sequence1, sequence2, score, startGap=4, keepGap=1, l=1):\n",
    "    \"\"\"\n",
    "    l: the maximum number of alignement returned (note: less than l alignements may be returned)\n",
    "    \"\"\"\n",
    "    height, width = sequence1.length() + 1, sequence2.length() + 1\n",
    "    v, w, s = [makeMatrix(width, height) for _ in range(3)]\n",
    "    previous = makeMatrix(width, height, [])    \n",
    "    \n",
    "    pathsLeft = l\n",
    "    computeMatrix(s, v, w, sequence1, sequence2, previous, score, startGap, keepGap)\n",
    "    paths, bestScore = findBestLocalPaths(s, previous, pathsLeft)\n",
    "    \n",
    "    pathsLeft -= len(paths)\n",
    "    pathScores = getPathScores(paths, s)\n",
    "        \n",
    "    return s, paths, bestScore, previous, pathScores"
   ]
  },
  {
   "cell_type": "markdown",
   "metadata": {},
   "source": [
    "Observons les résultats de cette fonctions lorsqu'on utilise avec les séquences du premier exemple (\"writers\" et \"vintner\")"
   ]
  },
  {
   "cell_type": "code",
   "execution_count": 41,
   "metadata": {},
   "outputs": [
    {
     "name": "stdout",
     "output_type": "stream",
     "text": [
      "The best score is 11\n",
      "\n",
      "Annotation: None \n",
      "Acids: WRITERS\n",
      "\n",
      "Annotation: None \n",
      "Acids: VINTNER\n",
      "\n",
      "Alignements found: 1 (may be artificially limited)\n",
      "\n",
      "Alignement number 1 with score 11: \n",
      "\n",
      "The length of the alignement is 5\n",
      "T_ER\n",
      "| ||\n",
      "TNER\n",
      "\n"
     ]
    }
   ],
   "source": [
    "s1, s2 = a, b\n",
    "result = getBestLocalAlignements(s1, s2, blosum62, startGap=4, keepGap=1, l=5)\n",
    "printAlignementResult(s1, s2, result, blosum62, showScore = True, showLength = True)\n",
    "\n",
    "scoreMatrix, paths, score, arrowMatrix, pathScores = result"
   ]
  },
  {
   "cell_type": "markdown",
   "metadata": {},
   "source": [
    "Visualisons la matrice des scores:"
   ]
  },
  {
   "cell_type": "code",
   "execution_count": 42,
   "metadata": {},
   "outputs": [
    {
     "data": {
      "image/png": "[encoded data removed]",
      "text/plain": [
       "<matplotlib.figure.Figure at 0x7f8f5c221208>"
      ]
     },
     "metadata": {},
     "output_type": "display_data"
    }
   ],
   "source": [
    "printColoredMatrix(scoreMatrix, arrowMatrix, seq1=a, seq2=b, figsize=(8, 8), arrowColor='black')"
   ]
  },
  {
   "cell_type": "markdown",
   "metadata": {},
   "source": [
    "L'algorithm fonctionne correctement. On peut voir qu'il commence de la case avec score maximum (7, 6) et crée le chemin à partir de là. Visualisons ces chemins:\n",
    "\n",
    "**TODO: check if we stop at the first 0 and can keep going**"
   ]
  },
  {
   "cell_type": "code",
   "execution_count": 43,
   "metadata": {},
   "outputs": [
    {
     "data": {
      "image/png": "[encoded data removed]",
      "text/plain": [
       "<matplotlib.figure.Figure at 0x7f8f59d74b38>"
      ]
     },
     "metadata": {},
     "output_type": "display_data"
    },
    {
     "name": "stdout",
     "output_type": "stream",
     "text": [
      "[(3, 3), (4, 4), (5, 4), (6, 5), (7, 6)]\n"
     ]
    }
   ],
   "source": [
    "for path in paths:\n",
    "    showPath(path, scoreMatrix)\n",
    "    print(path)"
   ]
  },
  {
   "cell_type": "markdown",
   "metadata": {},
   "source": [
    "## Étape 2: avec alignements sous-optimaux\n",
    "\n",
    "La prochaine étape est de calculer les alignements sous-optimaux (si il n'y a pas assez d'alignements locaux avec score maximal).\n",
    "\n",
    "Imaginons qu'on ait trouvé le chemin avec le score maximal, comme dans l'image suivante:\n",
    "\n",
    "![Alignement local optimal](images/localBeforeZeroing.png)\n",
    "\n",
    "Après avoir trouvé la séquence à score maximal, on met toutes ces cellules à 0 et on recalcule la matrice dans le voisinage du chemin optimal, comme dans l'image suivante: \n",
    "\n",
    "![Alignements sous-optimaux](images/suboptimal.png)"
   ]
  },
  {
   "cell_type": "code",
   "execution_count": 44,
   "metadata": {},
   "outputs": [],
   "source": [
    "def clearPathsAndRecomputeMatrix(s, v, w, sequence1, sequence2, path, scoreSub, previous, isInPath, startGap, keepGap):\n",
    "    \n",
    "    \n",
    "    \n",
    "    # Mettre les valeurs des chemins à 0\n",
    "    for (x, y) in path:\n",
    "        s[y][x] = 0\n",
    "        v[y][x] = 0\n",
    "        w[y][x] = 0\n",
    "        previous[y][x] = [None]\n",
    "        isInPath[y][x] = True\n",
    "    \n",
    "    \n",
    "    minX, minY = (1, path[0]), (1, p)\n",
    "    height, width = len(s), len(s[0])\n",
    "    \n",
    "    # Recalculer la matrice\n",
    "    # Right now, we recompute everything, but we can stop earlier\n",
    "    # An idea might be to stop if the new score is equal to the old score\n",
    "    for x in range(min(1, minX), width):\n",
    "        for y in range(min(1, minY), height):\n",
    "            # Don't ever recompute a value that has been set to 0\n",
    "            if isInPath[y][x]:\n",
    "                continue\n",
    "            \n",
    "            v[y][x] = max(s[y - 1][x] - startGap, v[y - 1][x] - keepGap)\n",
    "            w[y][x] = max(s[y][x - 1] - startGap, w[y][x - 1] - keepGap)\n",
    "            replacementCost = scoreSub.getCost(sequence1[y - 1], sequence2[x - 1])\n",
    "\n",
    "            costsMap = {\n",
    "                (x, y - 1): v[y][x],\n",
    "                (x - 1, y): w[y][x],\n",
    "                (x - 1, y - 1): s[y - 1][x - 1] + replacementCost,\n",
    "                None: 0\n",
    "            }\n",
    "\n",
    "            s[y][x] = bestScore = max(costsMap.values())\n",
    "            # Arrivé à un 0. Pas de flèches\n",
    "            if bestScore == 0:\n",
    "                previous[y][x] = [None]\n",
    "                continue\n",
    "        \n",
    "            # Cas spécial: les bords. Ils gardent un score 0 et n'ont pas de fleches\n",
    "            if x == 0 or y == 0:\n",
    "                previous[y][x] = [None]\n",
    "                s[y][x] = 0\n",
    "                continue\n",
    "        \n",
    "            previous[y][x] = []\n",
    "            for coord, cost in costsMap.items():\n",
    "                if cost == bestScore:\n",
    "                    previous[y][x].append(coord)\n",
    "    \n",
    "\n",
    "    \n",
    "def getAllBestLocalAlignements(sequence1, sequence2, scoreSub, startGap=4, keepGap=1, l=1, showMatrix=False):\n",
    "    \"\"\"\n",
    "    l: the maximum number of alignement returned (note: less than l alignements may be returned)\n",
    "    \"\"\"\n",
    "    height, width = sequence1.length() + 1, sequence2.length() + 1\n",
    "    v, w, s = [makeMatrix(width, height) for _ in range(3)]\n",
    "    previous = makeMatrix(width, height, [])   \n",
    "    isInPath = makeMatrix(width, height, False)\n",
    "    pathsLeft = l\n",
    "    paths = []\n",
    "    pathScores = {}\n",
    "    \n",
    "    for i in range(width):\n",
    "        previous[0][i] = [None]\n",
    "    \n",
    "    for i in range(height):\n",
    "        previous[i][0] = [None]\n",
    "    \n",
    "    # Find best paths\n",
    "    computeMatrix(s, v, w, sequence1, sequence2, previous, scoreSub, startGap, keepGap)\n",
    "    \n",
    "    \n",
    "    newPath, bestScore = getBestLocalPath(s, previous) \n",
    "    pathScores[newPath[-1]] = bestScore\n",
    "    paths.append(newPath)\n",
    "    pathsLeft -= 1\n",
    "    \n",
    "    if showMatrix:\n",
    "        printColoredMatrix(s, previous, seq1=sequence1, seq2=sequence2)\n",
    "    \n",
    "    # If we don't find enough paths, keep searching for sub-optimal paths\n",
    "    while pathsLeft > 0:\n",
    "        clearPathsAndRecomputeMatrix(s, v, w, sequence1, sequence2, newPath, scoreSub, previous, isInPath, startGap, keepGap)\n",
    "        \n",
    "        if showMatrix:\n",
    "            printColoredMatrix(s, previous, seq1=sequence1, seq2=sequence2)\n",
    "        \n",
    "        newPath, bestCurrentScore = getBestLocalPath(s, previous)  \n",
    "        \n",
    "        # No more good paths\n",
    "        if newPath is None:\n",
    "            print(\"Stopped searching because no good paths\")\n",
    "            break\n",
    "        \n",
    "        pathsLeft -= 1\n",
    "        paths.append(newPath)\n",
    "        pathScores[newPath[-1]] = bestCurrentScore\n",
    "        \n",
    "    # TODO: remember the score associated with each path\n",
    "    return s, paths, bestScore, previous, pathScores\n",
    "    \n",
    "    "
   ]
  },
  {
   "cell_type": "markdown",
   "metadata": {},
   "source": [
    "Appliquons cette fonction à notre premier exemple (\"writers\" et \"vintner\"). Pour mieux comprendre l'évolution de la matrice des scores, elle est aussi affichée chaque fois qu'elle est recalculée."
   ]
  },
  {
   "cell_type": "code",
   "execution_count": 45,
   "metadata": {},
   "outputs": [
    {
     "data": {
      "image/png": "[encoded data removed]",
      "text/plain": [
       "<matplotlib.figure.Figure at 0x7f8f59cdf320>"
      ]
     },
     "metadata": {},
     "output_type": "display_data"
    },
    {
     "ename": "NameError",
     "evalue": "name 'p' is not defined",
     "output_type": "error",
     "traceback": [
      "\u001b[1;31m---------------------------------------------------------------------------\u001b[0m",
      "\u001b[1;31mNameError\u001b[0m                                 Traceback (most recent call last)",
      "\u001b[1;32m<ipython-input-45-67072c54d55a>\u001b[0m in \u001b[0;36m<module>\u001b[1;34m()\u001b[0m\n\u001b[0;32m      1\u001b[0m \u001b[0ms1\u001b[0m\u001b[1;33m,\u001b[0m \u001b[0ms2\u001b[0m \u001b[1;33m=\u001b[0m \u001b[0ma\u001b[0m\u001b[1;33m,\u001b[0m \u001b[0mb\u001b[0m\u001b[1;33m\u001b[0m\u001b[0m\n\u001b[0;32m      2\u001b[0m \u001b[1;31m#s1, s2 = ww1, ww2\u001b[0m\u001b[1;33m\u001b[0m\u001b[1;33m\u001b[0m\u001b[0m\n\u001b[1;32m----> 3\u001b[1;33m \u001b[0mresult\u001b[0m \u001b[1;33m=\u001b[0m \u001b[0mgetAllBestLocalAlignements\u001b[0m\u001b[1;33m(\u001b[0m\u001b[0ms1\u001b[0m\u001b[1;33m,\u001b[0m \u001b[0ms2\u001b[0m\u001b[1;33m,\u001b[0m \u001b[0mblosum62\u001b[0m\u001b[1;33m,\u001b[0m \u001b[0mstartGap\u001b[0m\u001b[1;33m=\u001b[0m\u001b[1;36m4\u001b[0m\u001b[1;33m,\u001b[0m \u001b[0mkeepGap\u001b[0m\u001b[1;33m=\u001b[0m\u001b[1;36m1\u001b[0m\u001b[1;33m,\u001b[0m \u001b[0ml\u001b[0m\u001b[1;33m=\u001b[0m\u001b[1;36m10\u001b[0m\u001b[1;33m,\u001b[0m \u001b[0mshowMatrix\u001b[0m\u001b[1;33m=\u001b[0m\u001b[1;32mTrue\u001b[0m\u001b[1;33m)\u001b[0m\u001b[1;33m\u001b[0m\u001b[0m\n\u001b[0m\u001b[0;32m      4\u001b[0m \u001b[0mprintAlignementResult\u001b[0m\u001b[1;33m(\u001b[0m\u001b[0ms1\u001b[0m\u001b[1;33m,\u001b[0m \u001b[0ms2\u001b[0m\u001b[1;33m,\u001b[0m \u001b[0mresult\u001b[0m\u001b[1;33m,\u001b[0m \u001b[0mblosum62\u001b[0m\u001b[1;33m,\u001b[0m \u001b[0mshowScore\u001b[0m \u001b[1;33m=\u001b[0m \u001b[1;32mTrue\u001b[0m\u001b[1;33m,\u001b[0m \u001b[0mshowLength\u001b[0m \u001b[1;33m=\u001b[0m \u001b[1;32mFalse\u001b[0m\u001b[1;33m)\u001b[0m\u001b[1;33m\u001b[0m\u001b[0m\n\u001b[0;32m      5\u001b[0m \u001b[1;33m\u001b[0m\u001b[0m\n",
      "\u001b[1;32m<ipython-input-44-013a7000423f>\u001b[0m in \u001b[0;36mgetAllBestLocalAlignements\u001b[1;34m(sequence1, sequence2, scoreSub, startGap, keepGap, l, showMatrix)\u001b[0m\n\u001b[0;32m     86\u001b[0m     \u001b[1;31m# If we don't find enough paths, keep searching for sub-optimal paths\u001b[0m\u001b[1;33m\u001b[0m\u001b[1;33m\u001b[0m\u001b[0m\n\u001b[0;32m     87\u001b[0m     \u001b[1;32mwhile\u001b[0m \u001b[0mpathsLeft\u001b[0m \u001b[1;33m>\u001b[0m \u001b[1;36m0\u001b[0m\u001b[1;33m:\u001b[0m\u001b[1;33m\u001b[0m\u001b[0m\n\u001b[1;32m---> 88\u001b[1;33m         \u001b[0mclearPathsAndRecomputeMatrix\u001b[0m\u001b[1;33m(\u001b[0m\u001b[0ms\u001b[0m\u001b[1;33m,\u001b[0m \u001b[0mv\u001b[0m\u001b[1;33m,\u001b[0m \u001b[0mw\u001b[0m\u001b[1;33m,\u001b[0m \u001b[0msequence1\u001b[0m\u001b[1;33m,\u001b[0m \u001b[0msequence2\u001b[0m\u001b[1;33m,\u001b[0m \u001b[0mnewPath\u001b[0m\u001b[1;33m,\u001b[0m \u001b[0mscoreSub\u001b[0m\u001b[1;33m,\u001b[0m \u001b[0mprevious\u001b[0m\u001b[1;33m,\u001b[0m \u001b[0misInPath\u001b[0m\u001b[1;33m,\u001b[0m \u001b[0mstartGap\u001b[0m\u001b[1;33m,\u001b[0m \u001b[0mkeepGap\u001b[0m\u001b[1;33m)\u001b[0m\u001b[1;33m\u001b[0m\u001b[0m\n\u001b[0m\u001b[0;32m     89\u001b[0m \u001b[1;33m\u001b[0m\u001b[0m\n\u001b[0;32m     90\u001b[0m         \u001b[1;32mif\u001b[0m \u001b[0mshowMatrix\u001b[0m\u001b[1;33m:\u001b[0m\u001b[1;33m\u001b[0m\u001b[0m\n",
      "\u001b[1;32m<ipython-input-44-013a7000423f>\u001b[0m in \u001b[0;36mclearPathsAndRecomputeMatrix\u001b[1;34m(s, v, w, sequence1, sequence2, path, scoreSub, previous, isInPath, startGap, keepGap)\u001b[0m\n\u001b[0;32m     12\u001b[0m \u001b[1;33m\u001b[0m\u001b[0m\n\u001b[0;32m     13\u001b[0m \u001b[1;33m\u001b[0m\u001b[0m\n\u001b[1;32m---> 14\u001b[1;33m     \u001b[0mminX\u001b[0m\u001b[1;33m,\u001b[0m \u001b[0mminY\u001b[0m \u001b[1;33m=\u001b[0m \u001b[1;33m(\u001b[0m\u001b[1;36m1\u001b[0m\u001b[1;33m,\u001b[0m \u001b[0mpath\u001b[0m\u001b[1;33m[\u001b[0m\u001b[1;36m0\u001b[0m\u001b[1;33m]\u001b[0m\u001b[1;33m)\u001b[0m\u001b[1;33m,\u001b[0m \u001b[1;33m(\u001b[0m\u001b[1;36m1\u001b[0m\u001b[1;33m,\u001b[0m \u001b[0mp\u001b[0m\u001b[1;33m)\u001b[0m\u001b[1;33m\u001b[0m\u001b[0m\n\u001b[0m\u001b[0;32m     15\u001b[0m     \u001b[0mheight\u001b[0m\u001b[1;33m,\u001b[0m \u001b[0mwidth\u001b[0m \u001b[1;33m=\u001b[0m \u001b[0mlen\u001b[0m\u001b[1;33m(\u001b[0m\u001b[0ms\u001b[0m\u001b[1;33m)\u001b[0m\u001b[1;33m,\u001b[0m \u001b[0mlen\u001b[0m\u001b[1;33m(\u001b[0m\u001b[0ms\u001b[0m\u001b[1;33m[\u001b[0m\u001b[1;36m0\u001b[0m\u001b[1;33m]\u001b[0m\u001b[1;33m)\u001b[0m\u001b[1;33m\u001b[0m\u001b[0m\n\u001b[0;32m     16\u001b[0m \u001b[1;33m\u001b[0m\u001b[0m\n",
      "\u001b[1;31mNameError\u001b[0m: name 'p' is not defined"
     ]
    }
   ],
   "source": [
    "s1, s2 = a, b\n",
    "#s1, s2 = ww1, ww2\n",
    "result = getAllBestLocalAlignements(s1, s2, blosum62, startGap=4, keepGap=1, l=10, showMatrix=True)\n",
    "printAlignementResult(s1, s2, result, blosum62, showScore = True, showLength = False)\n",
    "\n",
    "scoreMatrix, paths, score, arrowMatrix, pathScores = result"
   ]
  },
  {
   "cell_type": "code",
   "execution_count": null,
   "metadata": {},
   "outputs": [],
   "source": [
    "printColoredMatrix(scoreMatrix, arrowMatrix, figsize=(8, 8), arrowColor='black')"
   ]
  },
  {
   "cell_type": "markdown",
   "metadata": {},
   "source": [
    "Visualisons les chemins créés:"
   ]
  },
  {
   "cell_type": "code",
   "execution_count": null,
   "metadata": {},
   "outputs": [],
   "source": [
    "for path in paths:\n",
    "    showPath(path, scoreMatrix)"
   ]
  },
  {
   "cell_type": "markdown",
   "metadata": {},
   "source": [
    "Appliquons maintenant cet algorithme aux 2 premières séquences du fichier *protein-sequences.fasta*."
   ]
  },
  {
   "cell_type": "code",
   "execution_count": null,
   "metadata": {},
   "outputs": [],
   "source": [
    "%%timeit\n",
    "p1, p2 = proteinSequences[0], proteinSequences[1]\n",
    "#p1, p2 = ww1, ww2\n",
    "result = getAllBestLocalAlignements(p1, p2, blosum62, startGap=4, keepGap=1, l=1, showMatrix=False)\n",
    "scoreMatrix, paths, score, arrowMatrix, pathScores = result\n",
    "printAlignementResult(p1, p2, result, blosum62, showScore = True, showLength = False)"
   ]
  },
  {
   "cell_type": "code",
   "execution_count": null,
   "metadata": {},
   "outputs": [],
   "source": [
    "for path in paths:\n",
    "    showPath(path, scoreMatrix)"
   ]
  },
  {
   "cell_type": "markdown",
   "metadata": {},
   "source": [
    "# TODO TODO TODO\n",
    "\n",
    "![alt text](https://images.mysafetysign.com/img/lg/K/danger-sign-k-9458.png)\n",
    "\n",
    "\n",
    "Comparez vos résultats avec l’outil LALIGN 1 . \n",
    "Utilisez les séquences du fichier protein-sequences.fasta et détectez quelles sont les \n",
    "parties similaires. Expliquez les similarités en utilisant les informations sur les protéines venant \n",
    "du site UniProt 2. "
   ]
  },
  {
   "cell_type": "code",
   "execution_count": null,
   "metadata": {},
   "outputs": [],
   "source": []
  },
  {
   "cell_type": "markdown",
   "metadata": {},
   "source": [
    "# Notes d'implémentation\n",
    "\n",
    "Pour des raisons de clarté et présentation, j'ai implementé le code via un série de fonctions. On peut rapidement voir que ceci n'est pas optimal, car certaines fonctions en appellent d'autres en leur passant beaucoup de paramètres. D'autre part, certaines fonctions sont des très proches variantes d'autres fonctions.\n",
    "\n",
    "Ceci suggère que définir des classes (probablement avec de l'héritage) permettrait de simplifier le code et éviter des répétitions. Malheureusement, une classe doit être définie en une seule cellule Jupyter, et ce n'est donc pas possible d'intercaler du texte en Markdown et les définitions de méthodes de ces classes. Pour des raisons de clarté, je ne l'ai donc pas fait, mais dans du code réel je le ferai."
   ]
  },
  {
   "cell_type": "code",
   "execution_count": null,
   "metadata": {},
   "outputs": [],
   "source": []
  }
 ],
 "metadata": {
  "kernelspec": {
   "display_name": "Python 3",
   "language": "python",
   "name": "python3"
  },
  "language_info": {
   "codemirror_mode": {
    "name": "ipython",
    "version": 3
   },
   "file_extension": ".py",
   "mimetype": "text/x-python",
   "name": "python",
   "nbconvert_exporter": "python",
   "pygments_lexer": "ipython3",
   "version": "3.5.2"
  }
 },
 "nbformat": 4,
 "nbformat_minor": 1
}
