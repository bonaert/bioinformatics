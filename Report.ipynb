{
 "cells": [
  {
   "cell_type": "markdown",
   "metadata": {},
   "source": [
    "# Abstract Data Types\n",
    "\n",
    "Nous commencons par créer une classe Sequence, qui est l'ADT qui représente une séquence d’acides aminés et toutes les opérations qu’on  peut  exécuter  sur  une  séquence (exemple:  retourner  un  acide  aminé  à  une  certaine  position ou visualiser la séquence en format FASTA)."
   ]
  },
  {
   "cell_type": "code",
   "execution_count": 1,
   "metadata": {},
   "outputs": [],
   "source": [
    "class Sequence:\n",
    "    def __init__(self, acids, annotation=None):\n",
    "        self.acids = acids\n",
    "        self.annotation = annotation\n",
    "        \n",
    "    def __getitem__(self, position):\n",
    "        \"\"\" Renvoie l'acide aminé à la position donnée. Syntaxe: sequence[position] \"\"\"\n",
    "        return self.acids[position]\n",
    "    \n",
    "    def toFASTAFormat(self):\n",
    "        return \">\" + self.annotation + \"\\n\" + self.acids\n",
    "    \n",
    "    def __repr__(self):\n",
    "        return \"Annotation: %s \\nAcids: %s\" % (self.annotation, self.acids)\n",
    "    \n",
    "    def length(self):\n",
    "        return len(self.acids)\n",
    "        "
   ]
  },
  {
   "cell_type": "markdown",
   "metadata": {},
   "source": [
    "Nous créeons aussi une classe Score, qui est un ADT qui représente une matrice de substitution et les opérations qu'on peut exécuter sur cette matrice."
   ]
  },
  {
   "cell_type": "code",
   "execution_count": 2,
   "metadata": {},
   "outputs": [],
   "source": [
    "class Score:\n",
    "    def __init__(self, matrix):\n",
    "        self.matrix = matrix\n",
    "    \n",
    "    def getNumLetters(self):\n",
    "        return len(self.matrix)\n",
    "    \n",
    "    def getLetters(self):\n",
    "        return self.matrix.keys()\n",
    "\n",
    "    def getCost(self, a, b):\n",
    "        return self.matrix[a.upper()][b.upper()]"
   ]
  },
  {
   "cell_type": "markdown",
   "metadata": {},
   "source": [
    "## Parser\n",
    "\n",
    "Nous devons créer des objets des classes Sequence et Score à partir des fichiers fournis. Il faut donc créer un parser pour les fichier des séquences (FASTA) et pour les fichiers avec les matrices de substitution (BLOSUM et PAM)."
   ]
  },
  {
   "cell_type": "markdown",
   "metadata": {},
   "source": [
    "## FASTA\n",
    "\n",
    "Les séquences d'acides aminés sont codées dans le format FASTA. Ce format est très simple.\n",
    "Chaque séquence est encodée par une annotation et ensuite la liste d'acides aminés. Voici un exemple:\n",
    "\n",
    ">&gt;sp|Q13526|PIN1_HUMAN Peptidyl-prolyl cis-trans isomerase NIMA-interacting 1 OS=Homo sapiens GN=PIN1 PE=1 SV=1\n",
    "MADEEKLPPGWEKRMSRSSGRVYYFNHITNASQWERPSGNSSSGGKNGQGEPARVRCSHL\n",
    "LVKHSQSRRPSSWRQEKITRTKEEALELINGYIQKIKSGEEDFESLASQFSDCSSAKARG\n",
    "DLGAFSRGQMQKPFEDASFALRTGEMSGPVFTDSGIHIILRTE\n",
    "\n",
    "La prèmiere ligne (qui commence par >) est une annotation contenant des informations sur la séquence. Ensuite viennent une série de lignes contenant la séquence d'acides aminés (avec un maximum de 80 caractères par ligne, en général, pour faciliter la lisibilité). \n",
    "\n",
    "Un fichier FASTA est constitué d'une série de séquences formattées de cette façon."
   ]
  },
  {
   "cell_type": "code",
   "execution_count": 3,
   "metadata": {},
   "outputs": [],
   "source": [
    "def parseFASTASequencesFromFile(filename):\n",
    "    with open(filename, 'r') as f:\n",
    "        return parseFASTASequences(f)\n",
    "\n",
    "def parseFASTASequences(lines):\n",
    "    sequences = []\n",
    "    annotation, acids = \"\", \"\"\n",
    "    for line in lines:\n",
    "        line = line.strip()\n",
    "\n",
    "        justEndedPreviousSequence = (len(line) == 0 or line.startswith(\">\")) and acids != \"\"\n",
    "        if justEndedPreviousSequence:\n",
    "            sequences.append(Sequence(acids, annotation))\n",
    "\n",
    "        if line.startswith(\">\"):\n",
    "            annotation = line[1:]\n",
    "            acids = \"\"\n",
    "        else:\n",
    "            acids += line\n",
    "\n",
    "    return sequences\n"
   ]
  },
  {
   "cell_type": "markdown",
   "metadata": {},
   "source": [
    "Appliquons ces parsers aux fichiers donnés:"
   ]
  },
  {
   "cell_type": "code",
   "execution_count": 4,
   "metadata": {},
   "outputs": [],
   "source": [
    "sequencesFilenames = ['protein-sequences.fasta', 'WW-sequence.fasta']\n",
    "proteinSequences, wwSequences = [parseFASTASequencesFromFile(filename) for filename in sequencesFilenames]\n",
    "\n",
    "sequence = proteinSequences[0]"
   ]
  },
  {
   "cell_type": "markdown",
   "metadata": {},
   "source": [
    "Faisons quelques tests pour vérifier notre fonction:"
   ]
  },
  {
   "cell_type": "code",
   "execution_count": 5,
   "metadata": {},
   "outputs": [
    {
     "name": "stdout",
     "output_type": "stream",
     "text": [
      "La première sequence est: \n",
      "\n",
      "Annotation: sp|P46937|YAP1_HUMAN Transcriptional coactivator YAP1 OS=Homo sapiens GN=YAP1 PE=1 SV=2 \n",
      "Acids: MDPGQQPPPQPAPQGQGQPPSQPPQGQGPPSGPGQPAPAATQAAPQAPPAGHQIVHVRGDSETDLEALFNAVMNPKTANVPQTVPMRLRKLPDSFFKPPEPKSHSRQASTDAGTAGALTPQHVRAHSSPASLQLGAVSPGTLTPTGVVSGPAATPTAQHLRQSSFEIPDDVPLPAGWEMAKTSSGQRYFLNHIDQTTTWQDPRKAMLSQMNVTAPTSPPVQQNMMNSASGPLPDGWEQAMTQDGEIYYINHKNKTTSWLDPRLDPRFAMNQRISQSAPVKQPPPLAPQSPQGGVMGGSNSNQQQQMRLQQLQMEKERLRLKQQELLRQAMRNINPSTANSPKCQELALRSQLPTLEQDGGTQNPVSSPGMSQELRTMTTNSSDPFLNSGTYHSRDESTDSGLSMSSYSVPRTPDDFLNSVDEMDTGDTINQSTLPSQQNRFPDYLEAIPGTNVDLGTLEGDGMNIEGEELMPSLQEALSSDILNDMESVLAATKLDKESFLTWL\n"
     ]
    }
   ],
   "source": [
    "print(\"La première sequence est: \\n\")\n",
    "print(sequence)"
   ]
  },
  {
   "cell_type": "code",
   "execution_count": 6,
   "metadata": {},
   "outputs": [
    {
     "name": "stdout",
     "output_type": "stream",
     "text": [
      "\n",
      "Le premier acide aminé de la séquence est: M\n"
     ]
    }
   ],
   "source": [
    "print(\"\\nLe premier acide aminé de la séquence est: \" + sequence[0])"
   ]
  },
  {
   "cell_type": "markdown",
   "metadata": {},
   "source": [
    "### Matrices de substitution\n",
    "\n",
    "Les matrices de substitution sont aussi dans un format simple et intuitif. Le fichier commence par quelques lignes de commentaires (commencent par #) et puis est suivi de la grille des coûts de substitution.\n",
    "\n",
    "Voici un exemple simplifié:\n",
    "\n",
    ">```\n",
    "# Ma matrice\n",
    "# Il y 5 acides aminés dans cet exemple\n",
    "   A  R  N  D  C\n",
    "A  4 -1 -2 -2  0 -\n",
    "R -1  5  0 -2 -3  \n",
    "N -2  0  6  1 -3  \n",
    "D -2 -2  1  6 -3  \n",
    "C  0 -3 -3 -3  9 \n",
    "```"
   ]
  },
  {
   "cell_type": "code",
   "execution_count": 7,
   "metadata": {},
   "outputs": [],
   "source": [
    "def parseSubstitutionMatrixFromFile(filename):\n",
    "    with open(filename, 'r') as f:\n",
    "        return parseSubstitutionMatrix(f)\n",
    "\n",
    "def parseSubstitutionMatrix(lines):\n",
    "    matrix = {}\n",
    "    \n",
    "    for line in lines:\n",
    "        if line.startswith('#') or line.strip() == \"\": # Skip comments\n",
    "            continue\n",
    "        elif line.startswith('  '): # First line with letters\n",
    "            letters = line.strip().split()\n",
    "        else:\n",
    "            letter, *costs = line.strip().split()\n",
    "            matrix[letter] = {}\n",
    "            for (i, cost) in enumerate(costs):\n",
    "                matrix[letter][letters[i]] = int(cost)\n",
    "    \n",
    "    return Score(matrix)\n"
   ]
  },
  {
   "cell_type": "markdown",
   "metadata": {},
   "source": [
    "Essayons d'appliquer ce parser à nos fichiers:"
   ]
  },
  {
   "cell_type": "code",
   "execution_count": 8,
   "metadata": {},
   "outputs": [
    {
     "name": "stdout",
     "output_type": "stream",
     "text": [
      "\n",
      "Le coût de subsition de R et C dans Blosum62 devrait être -3 et est -3\n",
      "Il y a 24 colonnes dans Blosum62: *ABCDEFGHIKLMNPQRSTVWXYZ\n"
     ]
    }
   ],
   "source": [
    "matricesFilenames = ['blosum62.txt', 'blosum80.txt', 'pam60.txt', 'pam120.txt']\n",
    "blosum62, blosum80, pam60, pam120 = [parseSubstitutionMatrixFromFile(filename) for filename in matricesFilenames]\n",
    "\n",
    "print(\"\\nLe coût de subsition de R et C dans Blosum62 devrait être -3 et est %d\" % blosum62.getCost('R', 'C'))\n",
    "letters = blosum62.getLetters()\n",
    "print(\"Il y a %d colonnes dans Blosum62: %s\" % (len(letters), ''.join(sorted(letters))))"
   ]
  },
  {
   "cell_type": "markdown",
   "metadata": {},
   "source": [
    "# Alignement global \n",
    "\n",
    "Maintenant qu'on a défini ces ADT, on peut commencer à implementer les algorithmes d'alignement. Pour l'alignement global, nous allons implémenter l'algorithme de *Needleman-Wunsch* avec une penalité affine.\n",
    "\n",
    "Lorsque la penalité est affine, cela vaut dire que commencer une séquence d'espaces est plus couteux que de la prolonger. Par exemple, le 1er espace peut avoir un cout de 10 alors que les espaces suivent n'ont qu'un cout de 2."
   ]
  },
  {
   "cell_type": "code",
   "execution_count": 9,
   "metadata": {},
   "outputs": [],
   "source": [
    "def printMatrix(matrix):\n",
    "    for line in matrix:\n",
    "        print(line)\n",
    "\n",
    "def makeMatrix(width, height, val=0):\n",
    "    if type(val) in (int, str):\n",
    "        return [[val] * width for _ in range(height)]\n",
    "    elif val == []:\n",
    "        return [[[] for _ in range(width)]for _ in range(height)]\n",
    "    else:\n",
    "        return [[val for _ in range(width)]for _ in range(height)]\n",
    "\n",
    "def getValue(matrix, x, y):\n",
    "    if x < 0 or y < 0:\n",
    "        return float('-inf')\n",
    "    else:\n",
    "        return matrix[y][x]\n",
    "\n",
    "def getSolutionsFromArrowGridHelper(previous, k, x, y):\n",
    "    # TODO: write a non recursive version of this function\n",
    "    if x == 0 and y == 0:\n",
    "        return [[(0, 0)]]\n",
    "    \n",
    "    paths = []\n",
    "    solutionsFound = 0\n",
    "    for newX, newY in previous[y][x]:\n",
    "        if k <= solutionsFound:\n",
    "            break\n",
    "        \n",
    "        sols = getSolutionsFromArrowGridHelper(previous, k - solutionsFound, newX, newY)\n",
    "        solutionsFound += len(sols)\n",
    "        for path in sols:\n",
    "            paths.append([(x, y)] + path)\n",
    "        \n",
    "    return paths\n",
    "\n",
    "def getSolutionsFromArrowGridHelperIterative(previous, k, x, y, isGlobal=True):\n",
    "    completePaths = []\n",
    "    incompletePaths = [[(x, y)]]\n",
    "    numPaths = 1\n",
    "    \n",
    "    while len(incompletePaths) > 0 and len(completePaths) <= k:\n",
    "        path = incompletePaths.pop()\n",
    "        lastX, lastY = path[-1]\n",
    "            \n",
    "        for (i, previousCoords) in enumerate(previous[lastY][lastX]):\n",
    "            if i > 0: # 2+ paths from this cell\n",
    "                numPaths += 1\n",
    "                if numPaths > k: # No need to consider new paths if we already have enough\n",
    "                    break\n",
    "            \n",
    "            if not isGlobal and previousCoords is None:\n",
    "                completePaths.append(path)\n",
    "                continue\n",
    "                \n",
    "            newX, newY = previousCoords\n",
    "            isComplete = (newX == 0 and newY == 0)\n",
    "            \n",
    "            if isComplete:\n",
    "                completePaths.append(path + [(newX, newY)])\n",
    "            else:\n",
    "                incompletePaths.append(path + [(newX, newY)])\n",
    "\n",
    "    return completePaths\n",
    "\n",
    "def getSolutionsFromArrowGrid(previous, k, x=None, y=None, isGlobal=True):\n",
    "    if x is None or y is None:\n",
    "        x, y = len(previous[0]) - 1, len(previous) - 1\n",
    "        \n",
    "    return [path[::-1] for path in getSolutionsFromArrowGridHelperIterative(previous, k, x, y, isGlobal)]        \n",
    "\n",
    "            \n",
    "def getBestGlobalAlignements(sequence1, sequence2, score, startGap=4, keepGap=1, k=1):\n",
    "    \"\"\"\n",
    "    k: the maximum number of alignement returned (note: less than k alignements may be returned)\n",
    "    \"\"\"\n",
    "    height, width = sequence1.length(), sequence2.length()\n",
    "    v, w, s = [makeMatrix(width + 1, height + 1) for _ in range(3)]\n",
    "    previous = makeMatrix(width + 1, height + 1, [])\n",
    "    \n",
    "    for i in range(1, width + 1):\n",
    "        s[0][i] = -(startGap + (i - 1) * keepGap)\n",
    "        v[0][i] = float('-inf')\n",
    "        previous[0][i] = [(i - 1, 0)]\n",
    "    \n",
    "    \n",
    "    for i in range(1, height + 1):\n",
    "        s[i][0] = -(startGap + (i - 1) * keepGap)\n",
    "        w[i][0] = float('-inf')\n",
    "        previous[i][0] = [(0, i - 1)]\n",
    "    \n",
    "    \n",
    "    \n",
    "    for x in range(1, width + 1):\n",
    "        for y in range(1, height + 1):\n",
    "            v[y][x] = max(s[y - 1][x] - startGap, v[y - 1][x] - keepGap)\n",
    "            w[y][x] = max(s[y][x - 1] - startGap, w[y][x - 1] - keepGap)\n",
    "            replacementCost = score.getCost(sequence1[y - 1], sequence2[x - 1])\n",
    "\n",
    "            costsMap = {\n",
    "                (x, y - 1): v[y][x],\n",
    "                (x - 1, y): w[y][x],\n",
    "                (x - 1, y - 1): s[y - 1][x - 1] + replacementCost\n",
    "            }\n",
    "\n",
    "            s[y][x] = max(costsMap.values())\n",
    "\n",
    "            for coord, cost in costsMap.items():\n",
    "                if cost == s[y][x]:\n",
    "                    previous[y][x].append(coord)\n",
    "\n",
    "    score = s[height][width]\n",
    "    \n",
    "    return s, getSolutionsFromArrowGrid(previous, k), score, previous"
   ]
  },
  {
   "cell_type": "code",
   "execution_count": 10,
   "metadata": {
    "scrolled": true
   },
   "outputs": [
    {
     "name": "stdout",
     "output_type": "stream",
     "text": [
      "There are 1 paths\n",
      "\n",
      "X * * * * * * *\n",
      "* X * * * * * *\n",
      "* * X * * * * *\n",
      "* * * X * * * *\n",
      "* * * * X * * *\n",
      "* * * * * X * *\n",
      "* * * * * * X *\n",
      "* * * * * * * X\n",
      "\n",
      "[(0, 0), (1, 1), (2, 2), (3, 3), (4, 4), (5, 5), (6, 6), (7, 7)]\n",
      "The score matrix is\n",
      "\n",
      "[0, -10, -13, -16, -19, -22, -25, -28]\n",
      "[-10, -3, -13, -16, -18, -22, -25, -28]\n",
      "[-13, -13, -6, -13, -17, -18, -22, -20]\n",
      "[-16, -10, -9, -9, -14, -20, -21, -25]\n",
      "[-19, -16, -11, -9, -4, -14, -17, -20]\n",
      "[-22, -21, -19, -11, -10, -4, -9, -17]\n",
      "[-25, -25, -24, -19, -12, -10, -4, -4]\n",
      "[-28, -27, -27, -23, -18, -11, -10, -5]\n",
      "\n",
      "The arrow matrix is\n",
      "\n",
      "[[], [(0, 0)], [(1, 0)], [(2, 0)], [(3, 0)], [(4, 0)], [(5, 0)], [(6, 0)]]\n",
      "[[(0, 0)], [(0, 0)], [(1, 0), (1, 1)], [(2, 1)], [(3, 0)], [(4, 1)], [(5, 1), (5, 0)], [(6, 1), (6, 0)]]\n",
      "[[(0, 1)], [(0, 1), (1, 1)], [(1, 1)], [(2, 1)], [(3, 1)], [(4, 1)], [(5, 1)], [(6, 1)]]\n",
      "[[(0, 2)], [(0, 2)], [(1, 2)], [(2, 2)], [(3, 2)], [(4, 2)], [(5, 2)], [(6, 2)]]\n",
      "[[(0, 3)], [(0, 3)], [(1, 3)], [(2, 3)], [(3, 3)], [(4, 4), (4, 3)], [(5, 4)], [(6, 4)]]\n",
      "[[(0, 4)], [(0, 4)], [(1, 4)], [(2, 4)], [(3, 4)], [(4, 4)], [(5, 4)], [(6, 4), (6, 5)]]\n",
      "[[(0, 5)], [(1, 5), (0, 5)], [(1, 5), (2, 5)], [(2, 5)], [(3, 5)], [(4, 5)], [(5, 5)], [(6, 5)]]\n",
      "[[(0, 6)], [(0, 6)], [(2, 6), (1, 6)], [(2, 6)], [(3, 6)], [(4, 6)], [(5, 6)], [(6, 6)]]\n"
     ]
    }
   ],
   "source": [
    "from pprint import pprint\n",
    "def showPath(path):\n",
    "    x, y = path[-1]\n",
    "    mat = makeMatrix(x + 1, y + 1, '*')\n",
    "    for x, y in path:\n",
    "        mat[y][x] = 'X'\n",
    "   \n",
    "    for line in mat:\n",
    "        print(' '.join(line))\n",
    "    print()\n",
    "\n",
    "a = Sequence('writers')\n",
    "b = Sequence('vintner')\n",
    "\n",
    "scoreMatrix, paths, score, arrowMatrix = getBestGlobalAlignements(a, b, blosum62, startGap=10, keepGap=3, k=100)\n",
    "print(\"There are %d paths\\n\" % len(paths))\n",
    "for path in paths:\n",
    "    showPath(path)\n",
    "    print(path)\n",
    "    \n",
    "print(\"The score matrix is\\n\")\n",
    "printMatrix(scoreMatrix)\n",
    "\n",
    "print(\"\\nThe arrow matrix is\\n\")\n",
    "printMatrix(arrowMatrix)"
   ]
  },
  {
   "cell_type": "markdown",
   "metadata": {},
   "source": [
    "From this, we can reconstruct the best alignements between these two sequences:"
   ]
  },
  {
   "cell_type": "code",
   "execution_count": 11,
   "metadata": {},
   "outputs": [
    {
     "name": "stdout",
     "output_type": "stream",
     "text": [
      "The alignements score of these sequences is 77\n",
      "\n",
      "Annotation: sp|P46937|171-204 \n",
      "Acids: VPLPAGWEMAKTSSGQRYFLNHIDQTTTWQDPRK\n",
      "\n",
      "Annotation: sp|P46934|610-643 \n",
      "Acids: SPLPPGWEERQDILGRTYYVNHESRRTQWKRPTP\n",
      "\n",
      "Alignements found: 1 (may be artificially limited)\n",
      "\n",
      "VPLPAGWEMAKTSSGQRYFLNHIDQTTTWQDPRK\n",
      "SPLPPGWEERQDILGRTYYVNHESRRTQWKRPTP\n",
      "\n"
     ]
    }
   ],
   "source": [
    "def showAlignments(path, sequence1, sequence2):\n",
    "    text1, text2 = \"\", \"\"\n",
    "    prevX, prevY = path[0]\n",
    "    \n",
    "    for (x, y) in path[1:]:\n",
    "        #if x == 0 and y == 0:\n",
    "        #    continue\n",
    "        \n",
    "        if x == prevX and y == prevY + 1: # Down\n",
    "            text2 += \"_\"\n",
    "            text1 += sequence1[x - 1] # Check this\n",
    "        elif x == prevX + 1 and y == prevY: # Right\n",
    "            text1 += \"_\"\n",
    "            text2 += sequence2[y - 1] # Check this\n",
    "        elif x == prevX + 1 and y == prevY + 1: # Diagonal\n",
    "            text1 += sequence1[x - 1]\n",
    "            text2 += sequence2[y - 1]\n",
    "        \n",
    "        prevX, prevY = x, y\n",
    "    \n",
    "    return text1, text2\n",
    "\n",
    "def printAlignementResult(seq1, seq2, result, showScore = True, showLength = False):\n",
    "    scoreMatrix, paths, score, arrowMatrix = result\n",
    "    if showScore:\n",
    "        print(\"The alignements score of these sequences is %d\\n\" % score)\n",
    "        \n",
    "    print(seq1, end=\"\\n\\n\")\n",
    "    print(seq2, end=\"\\n\\n\")\n",
    "    print(\"Alignements found: %d (may be artificially limited)\\n\" % len(paths))\n",
    "    for path in paths:\n",
    "        text1, text2 = showAlignments(path, seq1, seq2)\n",
    "        if showLength:\n",
    "            print(\"The length of the alignemnt is %d\" % len(text1))\n",
    "            \n",
    "        print(text1)\n",
    "        print(text2)\n",
    "        print()\n",
    "\n",
    "def compareSequences(seq1, seq2, matrix=blosum62, startGap=4, keepGap=1, k=5, showScore=True):\n",
    "    scoreMatrix, *rest = result = getBestGlobalAlignements(seq1, seq2, matrix, startGap, keepGap, k)\n",
    "    printAlignementResult(seq1, seq2, result, showScore)\n",
    "        \n",
    "ww1, ww2 = wwSequences[0], wwSequences[1]\n",
    "compareSequences(ww1, ww2)"
   ]
  },
  {
   "cell_type": "markdown",
   "metadata": {},
   "source": [
    "On peut regarder quelle paires de séquences du fichier *ww-sequences.fasta* ont des alignements avec le score maximal."
   ]
  },
  {
   "cell_type": "code",
   "execution_count": 12,
   "metadata": {
    "scrolled": true
   },
   "outputs": [
    {
     "name": "stdout",
     "output_type": "stream",
     "text": [
      "The best matches have a score of 117\n",
      "They are between these sequences: \n",
      "\n",
      "------------- Sequences 1 -----------------\n",
      "\n",
      "Annotation: sp|P46934|610-643 \n",
      "Acids: SPLPPGWEERQDILGRTYYVNHESRRTQWKRPTP\n",
      "\n",
      "Annotation: sp|P46934|892-925 \n",
      "Acids: GPLPPGWEERTHTDGRIFYINHNIKRTQWEDPRL\n",
      "\n",
      "Alignements found: 1 (may be artificially limited)\n",
      "\n",
      "SPLPPGWEER__ILLLGRTYYVNHESRRTQWKRPTP\n",
      "GPLPPGWEERRRTH__GRIFYINHNIKRTQWEDPRL\n",
      "\n"
     ]
    }
   ],
   "source": [
    "import itertools\n",
    "\n",
    "def getBestMatches(sequences):\n",
    "    bestScore = float('-inf')\n",
    "    bestResults = {}\n",
    "    \n",
    "    for seq1, seq2 in itertools.combinations(sequences, 2):\n",
    "        scoreMatrix, paths, score, arrowMatrix = result = getBestGlobalAlignements(seq1, seq2, blosum62, startGap=4, keepGap=1, k=1)\n",
    "        if score > bestScore:\n",
    "            bestScore = score\n",
    "            bestResults = {(seq1, seq2): result}\n",
    "        elif score == bestScore:\n",
    "            bestResults[(seq1, seq2)] = result\n",
    "    \n",
    "    return bestResults, bestScore\n",
    "\n",
    "# TODO: improve perfomance. Right now it's dumb as a rock\n",
    "bestResults, score = getBestMatches(wwSequences)\n",
    "print(\"The best matches have a score of %d\" % score)\n",
    "print(\"They are between these sequences: \")\n",
    "i = 1\n",
    "for (seq1, seq2), result in bestResults.items():\n",
    "    print(\"\\n------------- Sequences %d -----------------\\n\" % i)\n",
    "    printAlignementResult(seq1, seq2, result, showScore=False)\n",
    "    i += 1"
   ]
  },
  {
   "cell_type": "markdown",
   "metadata": {},
   "source": [
    "# Alignement local\n",
    "\n",
    "Pour calculer l'alignement local entre séquences, on implémente l'algorithme de Smith-Waterman. Celui ci est extremement proche de l'algorithme de Needleman-Wunsch. Voici les différences:\n",
    "\n",
    "![Alignement local](images/local.png)"
   ]
  },
  {
   "cell_type": "code",
   "execution_count": 13,
   "metadata": {},
   "outputs": [],
   "source": [
    "def findMaximumsInMatrix(matrix):\n",
    "    maximums = []\n",
    "    maxVal = float('-inf')\n",
    "    for (y, line) in enumerate(matrix):\n",
    "        for (x, value) in enumerate(line):\n",
    "            if value > maxVal:\n",
    "                maxVal = value\n",
    "                maximums = [(x, y)]\n",
    "            elif value == maxVal:\n",
    "                maximums.append((x, y))\n",
    "    return maximums\n",
    "    \n",
    "\n",
    "def getBestLocalAlignements(sequence1, sequence2, score, startGap=4, keepGap=1, l=1):\n",
    "    \"\"\"\n",
    "    l: the maximum number of alignement returned (note: less than l alignements may be returned)\n",
    "    \"\"\"\n",
    "    height, width = sequence1.length(), sequence2.length()\n",
    "    v, w, s = [makeMatrix(width + 1, height + 1) for _ in range(3)]\n",
    "    previous = makeMatrix(width + 1, height + 1, [])\n",
    "    \n",
    "#     for i in range(1, width + 1):\n",
    "#         s[0][i] = -(startGap + (i - 1) * keepGap)\n",
    "#         previous[0][i] = [(i - 1, 0)]\n",
    "    \n",
    "    \n",
    "#     for i in range(1, height + 1):\n",
    "#         s[i][0] = -(startGap + (i - 1) * keepGap)\n",
    "#         previous[i][0] = [(0, i - 1)]\n",
    "    \n",
    "    \n",
    "    for x in range(1, width + 1):\n",
    "        for y in range(1, height + 1):\n",
    "            v[y][x] = max(s[y - 1][x] - startGap, v[y - 1][x] - keepGap)\n",
    "            w[y][x] = max(s[y][x - 1] - startGap, w[y][x - 1] - keepGap)\n",
    "            replacementCost = score.getCost(sequence1[y - 1], sequence2[x - 1])\n",
    "\n",
    "            costsMap = {\n",
    "                (x, y - 1): v[y][x],\n",
    "                (x - 1, y): w[y][x],\n",
    "                (x - 1, y - 1): s[y - 1][x - 1] + replacementCost,\n",
    "                None: 0\n",
    "            }\n",
    "\n",
    "            s[y][x] = bestScore = max(costsMap.values())\n",
    "        \n",
    "            for coord, cost in costsMap.items():\n",
    "                if cost == bestScore:\n",
    "                    previous[y][x].append(coord)\n",
    "\n",
    "    \n",
    "    \n",
    "    bestCoords = findMaximumsInMatrix(s)\n",
    "    x, y = bestCoords[0]\n",
    "    score = s[y][x]\n",
    "    \n",
    "    paths = []\n",
    "    maxPathsLeft = l\n",
    "    for (x, y) in bestCoords:\n",
    "        newPaths = getSolutionsFromArrowGrid(previous, maxPathsLeft, x, y, isGlobal=False)\n",
    "        \n",
    "        paths.extend(newPaths)\n",
    "        maxPathsLeft -= len(newPaths)\n",
    "        if maxPathsLeft <= 0:\n",
    "            break\n",
    "        \n",
    "    return s, paths, score, previous"
   ]
  },
  {
   "cell_type": "markdown",
   "metadata": {},
   "source": [
    "Observons les résultats de cette fonctions lorsqu'on utilise les données du fichier *protein-sequences.fasta*."
   ]
  },
  {
   "cell_type": "code",
   "execution_count": 14,
   "metadata": {},
   "outputs": [
    {
     "name": "stdout",
     "output_type": "stream",
     "text": [
      "The alignements score of these sequences is 81\n",
      "\n",
      "Annotation: sp|P46937|171-204 \n",
      "Acids: VPLPAGWEMAKTSSGQRYFLNHIDQTTTWQDPRK\n",
      "\n",
      "Annotation: sp|P46934|610-643 \n",
      "Acids: SPLPPGWEERQDILGRTYYVNHESRRTQWKRPTP\n",
      "\n",
      "Alignements found: 1 (may be artificially limited)\n",
      "\n",
      "The length of the alignemnt is 31\n",
      "PLPAGWEMAKTSSGQRYFLNHIDQTTTWQDP\n",
      "PLPPGWEERQDILGRTYYVNHESRRTQWKRP\n",
      "\n",
      "[[(1, 1), (2, 2), (3, 3), (4, 4), (5, 5), (6, 6), (7, 7), (8, 8), (9, 9), (10, 10), (11, 11), (12, 12), (13, 13), (14, 14), (15, 15), (16, 16), (17, 17), (18, 18), (19, 19), (20, 20), (21, 21), (22, 22), (23, 23), (24, 24), (25, 25), (26, 26), (27, 27), (28, 28), (29, 29), (30, 30), (31, 31), (32, 32)]]\n"
     ]
    }
   ],
   "source": [
    "result = getBestLocalAlignements(ww1, ww2, blosum62, startGap=4, keepGap=1, l=1)\n",
    "printAlignementResult(ww1, ww2, result, showScore = True, showLength = True)\n",
    "\n",
    "scoreMatrix, paths, *rest = result\n",
    "print(paths)"
   ]
  },
  {
   "cell_type": "code",
   "execution_count": null,
   "metadata": {},
   "outputs": [],
   "source": []
  }
 ],
 "metadata": {
  "kernelspec": {
   "display_name": "Python 3",
   "language": "python",
   "name": "python3"
  },
  "language_info": {
   "codemirror_mode": {
    "name": "ipython",
    "version": 3
   },
   "file_extension": ".py",
   "mimetype": "text/x-python",
   "name": "python",
   "nbconvert_exporter": "python",
   "pygments_lexer": "ipython3",
   "version": "3.5.2"
  }
 },
 "nbformat": 4,
 "nbformat_minor": 1
}
